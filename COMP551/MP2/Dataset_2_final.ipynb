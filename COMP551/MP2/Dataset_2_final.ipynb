{
 "cells": [
  {
   "cell_type": "code",
   "execution_count": 59,
   "metadata": {
    "colab": {
     "base_uri": "https://localhost:8080/"
    },
    "executionInfo": {
     "elapsed": 17133,
     "status": "ok",
     "timestamp": 1646705169494,
     "user": {
      "displayName": "George Qiao",
      "photoUrl": "https://lh3.googleusercontent.com/a-/AOh14GjQOj1-eyxkc57OuImXYnZ4X7LC-pvGo_48nt5B=s64",
      "userId": "12009838858184003601"
     },
     "user_tz": 300
    },
    "id": "cuhtBZ9S9gCx",
    "outputId": "83e63c77-4775-45c6-da10-67180f097c45"
   },
   "outputs": [
    {
     "name": "stderr",
     "output_type": "stream",
     "text": [
      "[nltk_data] Downloading package punkt to\n",
      "[nltk_data]     C:\\Users\\vrajp\\AppData\\Roaming\\nltk_data...\n",
      "[nltk_data]   Package punkt is already up-to-date!\n",
      "[nltk_data] Downloading package stopwords to\n",
      "[nltk_data]     C:\\Users\\vrajp\\AppData\\Roaming\\nltk_data...\n",
      "[nltk_data]   Package stopwords is already up-to-date!\n",
      "[nltk_data] Downloading package wordnet to\n",
      "[nltk_data]     C:\\Users\\vrajp\\AppData\\Roaming\\nltk_data...\n",
      "[nltk_data]   Package wordnet is already up-to-date!\n",
      "[nltk_data] Downloading package omw-1.4 to\n",
      "[nltk_data]     C:\\Users\\vrajp\\AppData\\Roaming\\nltk_data...\n",
      "[nltk_data]   Package omw-1.4 is already up-to-date!\n"
     ]
    },
    {
     "name": "stdout",
     "output_type": "stream",
     "text": [
      "Requirement already satisfied: contractions in c:\\users\\vrajp\\anaconda3\\lib\\site-packages (0.1.66)\n",
      "Requirement already satisfied: textsearch>=0.0.21 in c:\\users\\vrajp\\anaconda3\\lib\\site-packages (from contractions) (0.0.21)\n",
      "Requirement already satisfied: anyascii in c:\\users\\vrajp\\anaconda3\\lib\\site-packages (from textsearch>=0.0.21->contractions) (0.3.0)\n",
      "Requirement already satisfied: pyahocorasick in c:\\users\\vrajp\\anaconda3\\lib\\site-packages (from textsearch>=0.0.21->contractions) (1.4.4)\n"
     ]
    }
   ],
   "source": [
    "import re\n",
    "import matplotlib.pyplot as plt\n",
    "import nltk\n",
    "import pandas as pd\n",
    "import numpy as np\n",
    "nltk.download('punkt')\n",
    "nltk.download('stopwords')\n",
    "nltk.download('wordnet')\n",
    "nltk.download('omw-1.4')\n",
    "from nltk.corpus import stopwords\n",
    "from nltk.stem import SnowballStemmer\n",
    "from nltk.tokenize import sent_tokenize\n",
    "from nltk.stem.snowball import SnowballStemmer\n",
    "\n",
    "\n",
    "from sklearn.datasets import fetch_20newsgroups\n",
    "from sklearn.feature_extraction.text import CountVectorizer\n",
    "from sklearn.feature_extraction.text import TfidfTransformer\n",
    "from sklearn.metrics import accuracy_score\n",
    "from sklearn.linear_model import LogisticRegressionCV\n",
    "from sklearn.model_selection import cross_val_score\n",
    "from sklearn.model_selection import train_test_split\n",
    "\n",
    "\n",
    "import string\n",
    "string.punctuation\n",
    "from nltk.tokenize import TweetTokenizer\n",
    "from nltk.tokenize.api import TokenizerI\n",
    "from nltk.stem import StemmerI, WordNetLemmatizer\n",
    "\n",
    "!pip install contractions\n",
    "import contractions\n",
    "from typing import List\n",
    "\n",
    "import matplotlib.pyplot as plt\n",
    "from matplotlib.figure import Figure\n",
    "\n",
    "from scipy import sparse\n",
    "from sklearn.preprocessing import StandardScaler    # only for std on csr_matrix"
   ]
  },
  {
   "cell_type": "markdown",
   "metadata": {
    "id": "8zGu7LTbvjth"
   },
   "source": [
    "# Dataset_2: Sentiment140\n",
    "\n"
   ]
  },
  {
   "cell_type": "code",
   "execution_count": 4,
   "metadata": {
    "colab": {
     "base_uri": "https://localhost:8080/"
    },
    "executionInfo": {
     "elapsed": 36813,
     "status": "ok",
     "timestamp": 1646705210250,
     "user": {
      "displayName": "George Qiao",
      "photoUrl": "https://lh3.googleusercontent.com/a-/AOh14GjQOj1-eyxkc57OuImXYnZ4X7LC-pvGo_48nt5B=s64",
      "userId": "12009838858184003601"
     },
     "user_tz": 300
    },
    "id": "JcUDE3twYGnA",
    "outputId": "4b343403-7cbc-4919-cc99-d4202bca6300"
   },
   "outputs": [
    {
     "name": "stdout",
     "output_type": "stream",
     "text": [
      "sentiment      int8\n",
      "ids           int64\n",
      "date         object\n",
      "flag         object\n",
      "user         object\n",
      "text         string\n",
      "dtype: object\n",
      "(1600000, 6)\n",
      "sentiment      int8\n",
      "ids           int64\n",
      "date         object\n",
      "flag         object\n",
      "user         object\n",
      "text         string\n",
      "dtype: object\n",
      "(359, 6)\n"
     ]
    }
   ],
   "source": [
    "DS_COLUMNS  = [\"sentiment\", \"ids\", \"date\", \"flag\", \"user\", \"text\"]\n",
    "DS_ENCODING = \"ISO-8859-1\"\n",
    "\n",
    "df_train = pd.read_csv(\"https://www.cs.mcgill.ca/~aislam18/backup/training.1600000.processed.noemoticon.csv\", \n",
    "                       encoding=DS_ENCODING, names=DS_COLUMNS, dtype={'sentiment': 'int8','text' : 'string'})\n",
    "df_train\n",
    "\n",
    "df_test = pd.read_csv(\"https://www.cs.mcgill.ca/~aislam18/backup/new_testdata.manual.2009.06.14.csv\", \n",
    "                      encoding=DS_ENCODING, names=DS_COLUMNS, dtype={'sentiment': 'int8','text' : 'string'})\n",
    "df_test\n",
    "\n",
    "print(df_train.dtypes)\n",
    "print(df_train.shape)\n",
    "\n",
    "print(df_test.dtypes)\n",
    "print(df_test.shape)"
   ]
  },
  {
   "cell_type": "code",
   "execution_count": 5,
   "metadata": {
    "colab": {
     "base_uri": "https://localhost:8080/",
     "height": 206
    },
    "executionInfo": {
     "elapsed": 144,
     "status": "ok",
     "timestamp": 1646705276356,
     "user": {
      "displayName": "George Qiao",
      "photoUrl": "https://lh3.googleusercontent.com/a-/AOh14GjQOj1-eyxkc57OuImXYnZ4X7LC-pvGo_48nt5B=s64",
      "userId": "12009838858184003601"
     },
     "user_tz": 300
    },
    "id": "F5tZzVrUktJ8",
    "outputId": "c686dd2b-8cb5-434f-d41b-c1c38498e499"
   },
   "outputs": [
    {
     "data": {
      "text/html": [
       "<div>\n",
       "<style scoped>\n",
       "    .dataframe tbody tr th:only-of-type {\n",
       "        vertical-align: middle;\n",
       "    }\n",
       "\n",
       "    .dataframe tbody tr th {\n",
       "        vertical-align: top;\n",
       "    }\n",
       "\n",
       "    .dataframe thead th {\n",
       "        text-align: right;\n",
       "    }\n",
       "</style>\n",
       "<table border=\"1\" class=\"dataframe\">\n",
       "  <thead>\n",
       "    <tr style=\"text-align: right;\">\n",
       "      <th></th>\n",
       "      <th>sentiment</th>\n",
       "      <th>ids</th>\n",
       "      <th>date</th>\n",
       "      <th>flag</th>\n",
       "      <th>user</th>\n",
       "      <th>text</th>\n",
       "    </tr>\n",
       "  </thead>\n",
       "  <tbody>\n",
       "    <tr>\n",
       "      <th>0</th>\n",
       "      <td>0</td>\n",
       "      <td>1467810369</td>\n",
       "      <td>Mon Apr 06 22:19:45 PDT 2009</td>\n",
       "      <td>NO_QUERY</td>\n",
       "      <td>_TheSpecialOne_</td>\n",
       "      <td>@switchfoot http://twitpic.com/2y1zl - Awww, t...</td>\n",
       "    </tr>\n",
       "    <tr>\n",
       "      <th>1</th>\n",
       "      <td>0</td>\n",
       "      <td>1467810672</td>\n",
       "      <td>Mon Apr 06 22:19:49 PDT 2009</td>\n",
       "      <td>NO_QUERY</td>\n",
       "      <td>scotthamilton</td>\n",
       "      <td>is upset that he can't update his Facebook by ...</td>\n",
       "    </tr>\n",
       "    <tr>\n",
       "      <th>2</th>\n",
       "      <td>0</td>\n",
       "      <td>1467810917</td>\n",
       "      <td>Mon Apr 06 22:19:53 PDT 2009</td>\n",
       "      <td>NO_QUERY</td>\n",
       "      <td>mattycus</td>\n",
       "      <td>@Kenichan I dived many times for the ball. Man...</td>\n",
       "    </tr>\n",
       "    <tr>\n",
       "      <th>3</th>\n",
       "      <td>0</td>\n",
       "      <td>1467811184</td>\n",
       "      <td>Mon Apr 06 22:19:57 PDT 2009</td>\n",
       "      <td>NO_QUERY</td>\n",
       "      <td>ElleCTF</td>\n",
       "      <td>my whole body feels itchy and like its on fire</td>\n",
       "    </tr>\n",
       "    <tr>\n",
       "      <th>4</th>\n",
       "      <td>0</td>\n",
       "      <td>1467811193</td>\n",
       "      <td>Mon Apr 06 22:19:57 PDT 2009</td>\n",
       "      <td>NO_QUERY</td>\n",
       "      <td>Karoli</td>\n",
       "      <td>@nationwideclass no, it's not behaving at all....</td>\n",
       "    </tr>\n",
       "  </tbody>\n",
       "</table>\n",
       "</div>"
      ],
      "text/plain": [
       "   sentiment         ids                          date      flag  \\\n",
       "0          0  1467810369  Mon Apr 06 22:19:45 PDT 2009  NO_QUERY   \n",
       "1          0  1467810672  Mon Apr 06 22:19:49 PDT 2009  NO_QUERY   \n",
       "2          0  1467810917  Mon Apr 06 22:19:53 PDT 2009  NO_QUERY   \n",
       "3          0  1467811184  Mon Apr 06 22:19:57 PDT 2009  NO_QUERY   \n",
       "4          0  1467811193  Mon Apr 06 22:19:57 PDT 2009  NO_QUERY   \n",
       "\n",
       "              user                                               text  \n",
       "0  _TheSpecialOne_  @switchfoot http://twitpic.com/2y1zl - Awww, t...  \n",
       "1    scotthamilton  is upset that he can't update his Facebook by ...  \n",
       "2         mattycus  @Kenichan I dived many times for the ball. Man...  \n",
       "3          ElleCTF    my whole body feels itchy and like its on fire   \n",
       "4           Karoli  @nationwideclass no, it's not behaving at all....  "
      ]
     },
     "execution_count": 5,
     "metadata": {},
     "output_type": "execute_result"
    }
   ],
   "source": [
    "df_train.head()"
   ]
  },
  {
   "cell_type": "code",
   "execution_count": 6,
   "metadata": {
    "colab": {
     "base_uri": "https://localhost:8080/",
     "height": 206
    },
    "executionInfo": {
     "elapsed": 5,
     "status": "ok",
     "timestamp": 1646705278158,
     "user": {
      "displayName": "George Qiao",
      "photoUrl": "https://lh3.googleusercontent.com/a-/AOh14GjQOj1-eyxkc57OuImXYnZ4X7LC-pvGo_48nt5B=s64",
      "userId": "12009838858184003601"
     },
     "user_tz": 300
    },
    "id": "o7cVS9jTktH9",
    "outputId": "4ddae548-f1b3-4a32-de93-86cc94e83486"
   },
   "outputs": [
    {
     "data": {
      "text/html": [
       "<div>\n",
       "<style scoped>\n",
       "    .dataframe tbody tr th:only-of-type {\n",
       "        vertical-align: middle;\n",
       "    }\n",
       "\n",
       "    .dataframe tbody tr th {\n",
       "        vertical-align: top;\n",
       "    }\n",
       "\n",
       "    .dataframe thead th {\n",
       "        text-align: right;\n",
       "    }\n",
       "</style>\n",
       "<table border=\"1\" class=\"dataframe\">\n",
       "  <thead>\n",
       "    <tr style=\"text-align: right;\">\n",
       "      <th></th>\n",
       "      <th>sentiment</th>\n",
       "      <th>ids</th>\n",
       "      <th>date</th>\n",
       "      <th>flag</th>\n",
       "      <th>user</th>\n",
       "      <th>text</th>\n",
       "    </tr>\n",
       "  </thead>\n",
       "  <tbody>\n",
       "    <tr>\n",
       "      <th>0</th>\n",
       "      <td>4</td>\n",
       "      <td>3</td>\n",
       "      <td>Mon May 11 03:17:40 UTC 2009</td>\n",
       "      <td>kindle2</td>\n",
       "      <td>tpryan</td>\n",
       "      <td>@stellargirl I loooooooovvvvvveee my Kindle2. ...</td>\n",
       "    </tr>\n",
       "    <tr>\n",
       "      <th>1</th>\n",
       "      <td>4</td>\n",
       "      <td>4</td>\n",
       "      <td>Mon May 11 03:18:03 UTC 2009</td>\n",
       "      <td>kindle2</td>\n",
       "      <td>vcu451</td>\n",
       "      <td>Reading my kindle2...  Love it... Lee childs i...</td>\n",
       "    </tr>\n",
       "    <tr>\n",
       "      <th>2</th>\n",
       "      <td>4</td>\n",
       "      <td>5</td>\n",
       "      <td>Mon May 11 03:18:54 UTC 2009</td>\n",
       "      <td>kindle2</td>\n",
       "      <td>chadfu</td>\n",
       "      <td>Ok, first assesment of the #kindle2 ...it fuck...</td>\n",
       "    </tr>\n",
       "    <tr>\n",
       "      <th>3</th>\n",
       "      <td>4</td>\n",
       "      <td>6</td>\n",
       "      <td>Mon May 11 03:19:04 UTC 2009</td>\n",
       "      <td>kindle2</td>\n",
       "      <td>SIX15</td>\n",
       "      <td>@kenburbary You'll love your Kindle2. I've had...</td>\n",
       "    </tr>\n",
       "    <tr>\n",
       "      <th>4</th>\n",
       "      <td>4</td>\n",
       "      <td>7</td>\n",
       "      <td>Mon May 11 03:21:41 UTC 2009</td>\n",
       "      <td>kindle2</td>\n",
       "      <td>yamarama</td>\n",
       "      <td>@mikefish  Fair enough. But i have the Kindle2...</td>\n",
       "    </tr>\n",
       "  </tbody>\n",
       "</table>\n",
       "</div>"
      ],
      "text/plain": [
       "   sentiment  ids                          date     flag      user  \\\n",
       "0          4    3  Mon May 11 03:17:40 UTC 2009  kindle2    tpryan   \n",
       "1          4    4  Mon May 11 03:18:03 UTC 2009  kindle2    vcu451   \n",
       "2          4    5  Mon May 11 03:18:54 UTC 2009  kindle2    chadfu   \n",
       "3          4    6  Mon May 11 03:19:04 UTC 2009  kindle2     SIX15   \n",
       "4          4    7  Mon May 11 03:21:41 UTC 2009  kindle2  yamarama   \n",
       "\n",
       "                                                text  \n",
       "0  @stellargirl I loooooooovvvvvveee my Kindle2. ...  \n",
       "1  Reading my kindle2...  Love it... Lee childs i...  \n",
       "2  Ok, first assesment of the #kindle2 ...it fuck...  \n",
       "3  @kenburbary You'll love your Kindle2. I've had...  \n",
       "4  @mikefish  Fair enough. But i have the Kindle2...  "
      ]
     },
     "execution_count": 6,
     "metadata": {},
     "output_type": "execute_result"
    }
   ],
   "source": [
    "df_test.head()"
   ]
  },
  {
   "cell_type": "markdown",
   "metadata": {
    "id": "YrDSpysxv9qh"
   },
   "source": [
    "## Data cleaning \n",
    "\n",
    "Since we do not need the columns 'ids', 'date', 'flag' and 'user' we remove them from both train and test set"
   ]
  },
  {
   "cell_type": "code",
   "execution_count": 7,
   "metadata": {
    "executionInfo": {
     "elapsed": 93,
     "status": "ok",
     "timestamp": 1646705291952,
     "user": {
      "displayName": "George Qiao",
      "photoUrl": "https://lh3.googleusercontent.com/a-/AOh14GjQOj1-eyxkc57OuImXYnZ4X7LC-pvGo_48nt5B=s64",
      "userId": "12009838858184003601"
     },
     "user_tz": 300
    },
    "id": "2yyJ7qbNktF3"
   },
   "outputs": [],
   "source": [
    "sentiment_train_df = df_train.drop(columns=['ids', 'date', 'flag','user'], axis=1) #[['sentiment', 'text']]\n",
    "# Positive tweets have a value of 4 that we will convert to 1 for a binary column\n",
    "sentiment_train_df['sentiment'] = sentiment_train_df['sentiment'].replace(4, 1)"
   ]
  },
  {
   "cell_type": "code",
   "execution_count": 8,
   "metadata": {
    "executionInfo": {
     "elapsed": 88,
     "status": "ok",
     "timestamp": 1646705311613,
     "user": {
      "displayName": "George Qiao",
      "photoUrl": "https://lh3.googleusercontent.com/a-/AOh14GjQOj1-eyxkc57OuImXYnZ4X7LC-pvGo_48nt5B=s64",
      "userId": "12009838858184003601"
     },
     "user_tz": 300
    },
    "id": "pWH09uME8rfr"
   },
   "outputs": [],
   "source": [
    "sentiment_train_df_processed = sentiment_train_df.copy()"
   ]
  },
  {
   "cell_type": "code",
   "execution_count": 9,
   "metadata": {
    "executionInfo": {
     "elapsed": 115,
     "status": "ok",
     "timestamp": 1646705304271,
     "user": {
      "displayName": "George Qiao",
      "photoUrl": "https://lh3.googleusercontent.com/a-/AOh14GjQOj1-eyxkc57OuImXYnZ4X7LC-pvGo_48nt5B=s64",
      "userId": "12009838858184003601"
     },
     "user_tz": 300
    },
    "id": "5BVkEzWvktD0"
   },
   "outputs": [],
   "source": [
    "sentiment_test_df = df_test.drop(columns=['ids', 'date', 'flag','user'], axis=1) #[['sentiment', 'text']]\n",
    "# Positive tweets have a value of 4 that we will convert to 1 for a binary column\n",
    "sentiment_test_df['sentiment'] = sentiment_test_df['sentiment'].replace(4, 1)"
   ]
  },
  {
   "cell_type": "code",
   "execution_count": 10,
   "metadata": {
    "colab": {
     "base_uri": "https://localhost:8080/"
    },
    "executionInfo": {
     "elapsed": 111,
     "status": "ok",
     "timestamp": 1646705312420,
     "user": {
      "displayName": "George Qiao",
      "photoUrl": "https://lh3.googleusercontent.com/a-/AOh14GjQOj1-eyxkc57OuImXYnZ4X7LC-pvGo_48nt5B=s64",
      "userId": "12009838858184003601"
     },
     "user_tz": 300
    },
    "id": "gCa5eFZOktB0",
    "outputId": "41831454-4013-4c61-e43f-dbf28b947156"
   },
   "outputs": [
    {
     "data": {
      "text/plain": [
       "0          @switchfoot http://twitpic.com/2y1zl - Awww, t...\n",
       "1          is upset that he can't update his Facebook by ...\n",
       "2          @Kenichan I dived many times for the ball. Man...\n",
       "3            my whole body feels itchy and like its on fire \n",
       "4          @nationwideclass no, it's not behaving at all....\n",
       "                                 ...                        \n",
       "1599995    Just woke up. Having no school is the best fee...\n",
       "1599996    TheWDB.com - Very cool to hear old Walt interv...\n",
       "1599997    Are you ready for your MoJo Makeover? Ask me f...\n",
       "1599998    Happy 38th Birthday to my boo of alll time!!! ...\n",
       "1599999    happy #charitytuesday @theNSPCC @SparksCharity...\n",
       "Name: text, Length: 1600000, dtype: string"
      ]
     },
     "execution_count": 10,
     "metadata": {},
     "output_type": "execute_result"
    }
   ],
   "source": [
    "sentiment_train_df['text']"
   ]
  },
  {
   "cell_type": "code",
   "execution_count": 11,
   "metadata": {
    "colab": {
     "base_uri": "https://localhost:8080/"
    },
    "executionInfo": {
     "elapsed": 99,
     "status": "ok",
     "timestamp": 1646705314203,
     "user": {
      "displayName": "George Qiao",
      "photoUrl": "https://lh3.googleusercontent.com/a-/AOh14GjQOj1-eyxkc57OuImXYnZ4X7LC-pvGo_48nt5B=s64",
      "userId": "12009838858184003601"
     },
     "user_tz": 300
    },
    "id": "zrgjE5cwks_a",
    "outputId": "1cd90672-8e9c-4645-af58-a7d5d7b5ebb0"
   },
   "outputs": [
    {
     "data": {
      "text/plain": [
       "0      @stellargirl I loooooooovvvvvveee my Kindle2. ...\n",
       "1      Reading my kindle2...  Love it... Lee childs i...\n",
       "2      Ok, first assesment of the #kindle2 ...it fuck...\n",
       "3      @kenburbary You'll love your Kindle2. I've had...\n",
       "4      @mikefish  Fair enough. But i have the Kindle2...\n",
       "                             ...                        \n",
       "354    After using LaTeX a lot, any other typeset mat...\n",
       "355    On that note, I hate Word. I hate Pages. I hat...\n",
       "356    Ahhh... back in a *real* text editing environm...\n",
       "357    Trouble in Iran, I see. Hmm. Iran. Iran so far...\n",
       "358    Reading the tweets coming out of Iran... The w...\n",
       "Name: text, Length: 359, dtype: string"
      ]
     },
     "execution_count": 11,
     "metadata": {},
     "output_type": "execute_result"
    }
   ],
   "source": [
    "sentiment_test_df['text']"
   ]
  },
  {
   "cell_type": "markdown",
   "metadata": {
    "id": "9iYrYTERwP8F"
   },
   "source": [
    "## Plotting Distribution of classes"
   ]
  },
  {
   "cell_type": "code",
   "execution_count": 12,
   "metadata": {
    "colab": {
     "base_uri": "https://localhost:8080/",
     "height": 295
    },
    "executionInfo": {
     "elapsed": 2512,
     "status": "ok",
     "timestamp": 1646705323966,
     "user": {
      "displayName": "George Qiao",
      "photoUrl": "https://lh3.googleusercontent.com/a-/AOh14GjQOj1-eyxkc57OuImXYnZ4X7LC-pvGo_48nt5B=s64",
      "userId": "12009838858184003601"
     },
     "user_tz": 300
    },
    "id": "9ywrulpvks9L",
    "outputId": "7f800e2d-9168-486f-b264-2bcd9cce5db9"
   },
   "outputs": [
    {
     "data": {
      "image/png": "[encoded data removed]",
      "text/plain": [
       "<Figure size 432x288 with 1 Axes>"
      ]
     },
     "metadata": {
      "needs_background": "light"
     },
     "output_type": "display_data"
    }
   ],
   "source": [
    "# Plotting the distribution for dataset.\n",
    "ax = sentiment_train_df.groupby('sentiment').count().plot(kind='bar', title='Distribution of data',\n",
    "                                                          legend=False)\n",
    "ax.set_xticklabels(['Negative','Positive'], rotation=0)\n",
    "\n",
    "# Storing data in lists.\n",
    "text_train, sentiment_train = list(sentiment_train_df['text']), list(sentiment_train_df['sentiment'])"
   ]
  },
  {
   "cell_type": "markdown",
   "metadata": {
    "id": "u_Mcbo-Uwb8a"
   },
   "source": [
    "Since the classes are balanced and there is no skewness, we proceed to preprocess the data."
   ]
  },
  {
   "cell_type": "code",
   "execution_count": 13,
   "metadata": {
    "colab": {
     "base_uri": "https://localhost:8080/",
     "height": 295
    },
    "executionInfo": {
     "elapsed": 192,
     "status": "ok",
     "timestamp": 1646705325880,
     "user": {
      "displayName": "George Qiao",
      "photoUrl": "https://lh3.googleusercontent.com/a-/AOh14GjQOj1-eyxkc57OuImXYnZ4X7LC-pvGo_48nt5B=s64",
      "userId": "12009838858184003601"
     },
     "user_tz": 300
    },
    "id": "MMCgDfFrksiX",
    "outputId": "194132d9-525f-4ba5-9c91-eaeda59f3459"
   },
   "outputs": [
    {
     "data": {
      "image/png": "[encoded data removed]",
      "text/plain": [
       "<Figure size 432x288 with 1 Axes>"
      ]
     },
     "metadata": {
      "needs_background": "light"
     },
     "output_type": "display_data"
    }
   ],
   "source": [
    "# Plotting the distribution for dataset.\n",
    "ax = sentiment_test_df.groupby('sentiment').count().plot(kind='bar', title='Distribution of data',\n",
    "                                                          legend=False)\n",
    "ax.set_xticklabels(['Negative','Positive'], rotation=0)\n",
    "\n",
    "# Storing data in lists.\n",
    "text_test, sentiment_test = list(sentiment_test_df['text']), list(sentiment_test_df['sentiment'])"
   ]
  },
  {
   "cell_type": "markdown",
   "metadata": {
    "id": "4BLrxT7LnmUT"
   },
   "source": [
    "## Text Preprocessing\n",
    "\n",
    "Tweet texts often consists of other user mentions, hyperlink texts, emoticons and punctuations. In order to use them for learning using a Language Model. We cannot permit those texts for training a model. So we have to clean the text data using various preprocessing and cleansing methods.\n",
    "\n",
    "### Stemming/ Lematization:\n",
    "Stemming usually refers to a process that chops off the ends of words in the hope of achieving goal correctly most of the time and often includes the removal of derivational affixes.\n",
    "\n",
    "Lemmatization usually refers to doing things properly with the use of a vocabulary and morphological analysis of words, normally aiming to remove inflectional endings only and to return the base and dictionary form of a word.\n",
    "\n",
    "### Hyperlinks and Mentions:\n",
    "Twitter is a social media platform where people can tag and mentions other people's ID and share videos and blogs from internet. So the tweets often contain lots of Hyperlinks and twitter mentions.\n",
    "\n",
    "### Stopwords:\n",
    "Stopwords are commonly used words in English which have no contextual meaning. So we remove them before classification."
   ]
  },
  {
   "cell_type": "code",
   "execution_count": 14,
   "metadata": {
    "colab": {
     "base_uri": "https://localhost:8080/"
    },
    "executionInfo": {
     "elapsed": 4356,
     "status": "ok",
     "timestamp": 1646705333844,
     "user": {
      "displayName": "George Qiao",
      "photoUrl": "https://lh3.googleusercontent.com/a-/AOh14GjQOj1-eyxkc57OuImXYnZ4X7LC-pvGo_48nt5B=s64",
      "userId": "12009838858184003601"
     },
     "user_tz": 300
    },
    "id": "mw2w13tZksgQ",
    "outputId": "239c312e-13da-469b-d487-9d1a32884e76"
   },
   "outputs": [
    {
     "name": "stderr",
     "output_type": "stream",
     "text": [
      "C:\\Users\\vrajp\\AppData\\Local\\Temp/ipykernel_18868/4010953658.py:5: FutureWarning: The default value of regex will change from True to False in a future version.\n",
      "  sentiment_train_df['text'] = sentiment_train_df['text'].str.replace('\\d+', '')\n"
     ]
    }
   ],
   "source": [
    "stop_words = stopwords.words('english')\n",
    "stemmer = SnowballStemmer('english')\n",
    "\n",
    "text_cleaning_re = \"@\\S+|https?:\\S+|http?:\\S|www?:\\S|[^A-Za-z0-9]+\"\n",
    "sentiment_train_df['text'] = sentiment_train_df['text'].str.replace('\\d+', '')"
   ]
  },
  {
   "cell_type": "code",
   "execution_count": 15,
   "metadata": {
    "colab": {
     "base_uri": "https://localhost:8080/"
    },
    "executionInfo": {
     "elapsed": 15,
     "status": "ok",
     "timestamp": 1646705333845,
     "user": {
      "displayName": "George Qiao",
      "photoUrl": "https://lh3.googleusercontent.com/a-/AOh14GjQOj1-eyxkc57OuImXYnZ4X7LC-pvGo_48nt5B=s64",
      "userId": "12009838858184003601"
     },
     "user_tz": 300
    },
    "id": "95l_kiDykseI",
    "outputId": "21827704-3ab8-42b3-e43e-d56740846efc",
    "scrolled": true
   },
   "outputs": [
    {
     "name": "stdout",
     "output_type": "stream",
     "text": [
      "['i', 'me', 'my', 'myself', 'we', 'our', 'ours', 'ourselves', 'you', \"you're\", \"you've\", \"you'll\", \"you'd\", 'your', 'yours', 'yourself', 'yourselves', 'he', 'him', 'his', 'himself', 'she', \"she's\", 'her', 'hers', 'herself', 'it', \"it's\", 'its', 'itself', 'they', 'them', 'their', 'theirs', 'themselves', 'what', 'which', 'who', 'whom', 'this', 'that', \"that'll\", 'these', 'those', 'am', 'is', 'are', 'was', 'were', 'be', 'been', 'being', 'have', 'has', 'had', 'having', 'do', 'does', 'did', 'doing', 'a', 'an', 'the', 'and', 'but', 'if', 'or', 'because', 'as', 'until', 'while', 'of', 'at', 'by', 'for', 'with', 'about', 'against', 'between', 'into', 'through', 'during', 'before', 'after', 'above', 'below', 'to', 'from', 'up', 'down', 'in', 'out', 'on', 'off', 'over', 'under', 'again', 'further', 'then', 'once', 'here', 'there', 'when', 'where', 'why', 'how', 'all', 'any', 'both', 'each', 'few', 'more', 'most', 'other', 'some', 'such', 'no', 'nor', 'not', 'only', 'own', 'same', 'so', 'than', 'too', 'very', 's', 't', 'can', 'will', 'just', 'don', \"don't\", 'should', \"should've\", 'now', 'd', 'll', 'm', 'o', 're', 've', 'y', 'ain', 'aren', \"aren't\", 'couldn', \"couldn't\", 'didn', \"didn't\", 'doesn', \"doesn't\", 'hadn', \"hadn't\", 'hasn', \"hasn't\", 'haven', \"haven't\", 'isn', \"isn't\", 'ma', 'mightn', \"mightn't\", 'mustn', \"mustn't\", 'needn', \"needn't\", 'shan', \"shan't\", 'shouldn', \"shouldn't\", 'wasn', \"wasn't\", 'weren', \"weren't\", 'won', \"won't\", 'wouldn', \"wouldn't\"]\n"
     ]
    }
   ],
   "source": [
    "print(stop_words)"
   ]
  },
  {
   "cell_type": "markdown",
   "metadata": {
    "id": "bz8S1DzMxLEq"
   },
   "source": [
    "Since not all there are some expressions that do not give us enough information, we extend it as the stopwords."
   ]
  },
  {
   "cell_type": "code",
   "execution_count": 16,
   "metadata": {
    "executionInfo": {
     "elapsed": 86,
     "status": "ok",
     "timestamp": 1646705335694,
     "user": {
      "displayName": "George Qiao",
      "photoUrl": "https://lh3.googleusercontent.com/a-/AOh14GjQOj1-eyxkc57OuImXYnZ4X7LC-pvGo_48nt5B=s64",
      "userId": "12009838858184003601"
     },
     "user_tz": 300
    },
    "id": "wfKsSQ6Pksb2"
   },
   "outputs": [],
   "source": [
    "stop_words.extend(['aww','awww','ah','ahh','ahhh','haha','hahaha','guys'])"
   ]
  },
  {
   "cell_type": "code",
   "execution_count": 17,
   "metadata": {
    "executionInfo": {
     "elapsed": 122,
     "status": "ok",
     "timestamp": 1646705337111,
     "user": {
      "displayName": "George Qiao",
      "photoUrl": "https://lh3.googleusercontent.com/a-/AOh14GjQOj1-eyxkc57OuImXYnZ4X7LC-pvGo_48nt5B=s64",
      "userId": "12009838858184003601"
     },
     "user_tz": 300
    },
    "id": "MU2Dg6p7ksZe"
   },
   "outputs": [],
   "source": [
    "def preprocess(text, stem=False):\n",
    "    text = re.sub(text_cleaning_re, ' ', str(text).lower()).strip()\n",
    "    tokens = []\n",
    "    #print(tokens.type)\n",
    "    for token in text.split():\n",
    "        if token not in stop_words:\n",
    "            if stem:\n",
    "                tokens.append(stemmer.stem(token))\n",
    "            else:\n",
    "                tokens.append(token)\n",
    "    return \" \".join(tokens)"
   ]
  },
  {
   "cell_type": "code",
   "execution_count": 18,
   "metadata": {
    "executionInfo": {
     "elapsed": 62345,
     "status": "ok",
     "timestamp": 1646705402449,
     "user": {
      "displayName": "George Qiao",
      "photoUrl": "https://lh3.googleusercontent.com/a-/AOh14GjQOj1-eyxkc57OuImXYnZ4X7LC-pvGo_48nt5B=s64",
      "userId": "12009838858184003601"
     },
     "user_tz": 300
    },
    "id": "33fRaNTbksXN"
   },
   "outputs": [],
   "source": [
    "# It takes ~ 1.5 minutes to process it on avg.\n",
    "sentiment_train_df['text'] = sentiment_train_df['text'].apply(lambda x: preprocess(x))"
   ]
  },
  {
   "cell_type": "code",
   "execution_count": 19,
   "metadata": {
    "executionInfo": {
     "elapsed": 123,
     "status": "ok",
     "timestamp": 1646705615196,
     "user": {
      "displayName": "George Qiao",
      "photoUrl": "https://lh3.googleusercontent.com/a-/AOh14GjQOj1-eyxkc57OuImXYnZ4X7LC-pvGo_48nt5B=s64",
      "userId": "12009838858184003601"
     },
     "user_tz": 300
    },
    "id": "iF5r7UEuksUm"
   },
   "outputs": [],
   "source": [
    "sentiment_test_df['text'] = sentiment_test_df['text'].apply(lambda x: preprocess(x))"
   ]
  },
  {
   "cell_type": "markdown",
   "metadata": {
    "id": "iVJwQp9eoTs4"
   },
   "source": [
    "## Preprocessed_data visualization"
   ]
  },
  {
   "cell_type": "code",
   "execution_count": 20,
   "metadata": {
    "colab": {
     "base_uri": "https://localhost:8080/"
    },
    "executionInfo": {
     "elapsed": 131,
     "status": "ok",
     "timestamp": 1646705619488,
     "user": {
      "displayName": "George Qiao",
      "photoUrl": "https://lh3.googleusercontent.com/a-/AOh14GjQOj1-eyxkc57OuImXYnZ4X7LC-pvGo_48nt5B=s64",
      "userId": "12009838858184003601"
     },
     "user_tz": 300
    },
    "id": "jK16YA7zkr-i",
    "outputId": "1ea60b51-bc51-437e-ebf3-bedcd44dd763"
   },
   "outputs": [
    {
     "data": {
      "text/plain": [
       "0                    bummer shoulda got david carr third day\n",
       "1          upset update facebook texting might cry result...\n",
       "2          dived many times ball managed save rest go bounds\n",
       "3                           whole body feels itchy like fire\n",
       "4                                           behaving mad see\n",
       "                                 ...                        \n",
       "1599995                        woke school best feeling ever\n",
       "1599996             thewdb com cool hear old walt interviews\n",
       "1599997                      ready mojo makeover ask details\n",
       "1599998    happy th birthday boo alll time tupac amaru sh...\n",
       "1599999    happy charitytuesday thenspcc sparkscharity sp...\n",
       "Name: text, Length: 1600000, dtype: object"
      ]
     },
     "execution_count": 20,
     "metadata": {},
     "output_type": "execute_result"
    }
   ],
   "source": [
    "sentiment_train_df['text']"
   ]
  },
  {
   "cell_type": "code",
   "execution_count": 21,
   "metadata": {
    "colab": {
     "base_uri": "https://localhost:8080/"
    },
    "executionInfo": {
     "elapsed": 147,
     "status": "ok",
     "timestamp": 1646705621206,
     "user": {
      "displayName": "George Qiao",
      "photoUrl": "https://lh3.googleusercontent.com/a-/AOh14GjQOj1-eyxkc57OuImXYnZ4X7LC-pvGo_48nt5B=s64",
      "userId": "12009838858184003601"
     },
     "user_tz": 300
    },
    "id": "ooc5kSo5oZqR",
    "outputId": "8308029f-ac8d-4686-9fcf-7e275d5e69b6"
   },
   "outputs": [
    {
     "data": {
      "text/plain": [
       "0      loooooooovvvvvveee kindle2 dx cool 2 fantastic...\n",
       "1              reading kindle2 love lee childs good read\n",
       "2               ok first assesment kindle2 fucking rocks\n",
       "3      love kindle2 mine months never looked back new...\n",
       "4                      fair enough kindle2 think perfect\n",
       "                             ...                        \n",
       "354    using latex lot typeset mathematics looks hideous\n",
       "355    note hate word hate pages hate latex said hate...\n",
       "356        back real text editing environment lt 3 latex\n",
       "357    trouble iran see hmm iran iran far away flocko...\n",
       "358    reading tweets coming iran whole thing terrify...\n",
       "Name: text, Length: 359, dtype: object"
      ]
     },
     "execution_count": 21,
     "metadata": {},
     "output_type": "execute_result"
    }
   ],
   "source": [
    "sentiment_test_df['text']"
   ]
  },
  {
   "cell_type": "markdown",
   "metadata": {
    "id": "brVO-bG_xn_t"
   },
   "source": [
    "## Extracting Feature vectors using CountVectorizer and tfidfTransformer "
   ]
  },
  {
   "cell_type": "code",
   "execution_count": 22,
   "metadata": {
    "executionInfo": {
     "elapsed": 36548,
     "status": "ok",
     "timestamp": 1646705696545,
     "user": {
      "displayName": "George Qiao",
      "photoUrl": "https://lh3.googleusercontent.com/a-/AOh14GjQOj1-eyxkc57OuImXYnZ4X7LC-pvGo_48nt5B=s64",
      "userId": "12009838858184003601"
     },
     "user_tz": 300
    },
    "id": "0xjIFUgaoZoC"
   },
   "outputs": [],
   "source": [
    "vectorizer = CountVectorizer(ngram_range=(1, 1), stop_words='english', min_df=0.004, max_df=1.0)\n",
    "vectorizer_transformer = vectorizer.fit(sentiment_train_df['text'])\n",
    "x_train_cv = vectorizer_transformer.fit_transform(sentiment_train_df['text'])   #bag of words\n",
    "\n",
    "tf_transformer = TfidfTransformer(use_idf=False).fit(x_train_cv)\n",
    "x_train_tf = tf_transformer.transform(x_train_cv)"
   ]
  },
  {
   "cell_type": "code",
   "execution_count": 23,
   "metadata": {
    "colab": {
     "base_uri": "https://localhost:8080/"
    },
    "executionInfo": {
     "elapsed": 18,
     "status": "ok",
     "timestamp": 1646705696546,
     "user": {
      "displayName": "George Qiao",
      "photoUrl": "https://lh3.googleusercontent.com/a-/AOh14GjQOj1-eyxkc57OuImXYnZ4X7LC-pvGo_48nt5B=s64",
      "userId": "12009838858184003601"
     },
     "user_tz": 300
    },
    "id": "OWdPSpAroZlY",
    "outputId": "c9e8c702-fd11-412f-a814-cea91d45db60",
    "scrolled": true
   },
   "outputs": [
    {
     "data": {
      "text/plain": [
       "<1600000x226 sparse matrix of type '<class 'numpy.float64'>'\n",
       "\twith 3800514 stored elements in Compressed Sparse Row format>"
      ]
     },
     "execution_count": 23,
     "metadata": {},
     "output_type": "execute_result"
    }
   ],
   "source": [
    "x_train_tf"
   ]
  },
  {
   "cell_type": "code",
   "execution_count": 24,
   "metadata": {
    "executionInfo": {
     "elapsed": 102,
     "status": "ok",
     "timestamp": 1646705859972,
     "user": {
      "displayName": "George Qiao",
      "photoUrl": "https://lh3.googleusercontent.com/a-/AOh14GjQOj1-eyxkc57OuImXYnZ4X7LC-pvGo_48nt5B=s64",
      "userId": "12009838858184003601"
     },
     "user_tz": 300
    },
    "id": "4UL6RiDiKWSl"
   },
   "outputs": [],
   "source": [
    "x_train_2 = x_train_tf\n",
    "y_train_2 = sentiment_train_df['sentiment'].to_numpy()"
   ]
  },
  {
   "cell_type": "markdown",
   "metadata": {
    "id": "5QE2XrQGx6ZL"
   },
   "source": [
    "## Fit the train_set as vectorizer_transformer and using this to transform test data"
   ]
  },
  {
   "cell_type": "code",
   "execution_count": 25,
   "metadata": {
    "executionInfo": {
     "elapsed": 20282,
     "status": "ok",
     "timestamp": 1646705727158,
     "user": {
      "displayName": "George Qiao",
      "photoUrl": "https://lh3.googleusercontent.com/a-/AOh14GjQOj1-eyxkc57OuImXYnZ4X7LC-pvGo_48nt5B=s64",
      "userId": "12009838858184003601"
     },
     "user_tz": 300
    },
    "id": "nSU3divWoZaw"
   },
   "outputs": [],
   "source": [
    "vectorizer_transformer = vectorizer.fit(sentiment_train_df['text'])\n",
    "x_test_cv = vectorizer_transformer.transform(sentiment_test_df['text'])   #bag of words\n",
    "\n",
    "tf_transformer = TfidfTransformer(use_idf=False).fit(x_test_cv)\n",
    "x_test_tf = tf_transformer.transform(x_test_cv)"
   ]
  },
  {
   "cell_type": "code",
   "execution_count": 26,
   "metadata": {
    "executionInfo": {
     "elapsed": 97,
     "status": "ok",
     "timestamp": 1646705892925,
     "user": {
      "displayName": "George Qiao",
      "photoUrl": "https://lh3.googleusercontent.com/a-/AOh14GjQOj1-eyxkc57OuImXYnZ4X7LC-pvGo_48nt5B=s64",
      "userId": "12009838858184003601"
     },
     "user_tz": 300
    },
    "id": "sY4V2tShKWSm"
   },
   "outputs": [],
   "source": [
    "x_test_2 = x_test_tf\n",
    "y_test_2 = sentiment_test_df['sentiment'].to_numpy()"
   ]
  },
  {
   "cell_type": "markdown",
   "metadata": {
    "id": "Kn7dkx32yVOI"
   },
   "source": [
    "## Some useful analysis on the dataset using unigram, bigram and trigram"
   ]
  },
  {
   "cell_type": "code",
   "execution_count": 27,
   "metadata": {
    "id": "C0UVn0ri0PXR"
   },
   "outputs": [],
   "source": [
    "# Setup compiled regular expressions for tokenization\n",
    "NON_ALNUM_RE = re.compile(r'[^a-zA-Z0-9]')\n",
    "USER_RE = re.compile('@[^\\s]+')\n",
    "HTTP_URL_RE = re.compile(\"((http://)[^ ]*|(https://)[^ ]*|( www\\.)[^ ]*)\")\n",
    "SPACES_RE = re.compile('[\\s]+')\n",
    "\n",
    "# Setup tokenizer and lemmatizer\n",
    "wn_lemmatizer = WordNetLemmatizer()\n",
    "tw_tokenizer = TweetTokenizer(preserve_case=False, reduce_len=True)"
   ]
  },
  {
   "cell_type": "code",
   "execution_count": 28,
   "metadata": {
    "id": "H51PuBfRoZDN"
   },
   "outputs": [],
   "source": [
    "def make_ngrams(words: List[str], n: int = 1) -> List[str]:\n",
    "\n",
    "    if n == 1 or not words or n > len(words):\n",
    "        return words\n",
    "    # Otherwise we process n-gram windows and proceed\n",
    "    n_grams = []\n",
    "    for i in range(len(words) - n + 1):\n",
    "        n_grams.append('_'.join(words[i:i+n]))\n",
    "    return n_grams"
   ]
  },
  {
   "cell_type": "code",
   "execution_count": 29,
   "metadata": {
    "id": "MxuCMGIUoY47"
   },
   "outputs": [],
   "source": [
    "def stem_and_tokenize(origin_text: str,\n",
    "                      lemmatizer: WordNetLemmatizer,\n",
    "                      tokenizer: TokenizerI,\n",
    "                      n_grams: int = 1) -> List[str]:\n",
    "\n",
    "    text = origin_text.lower()\n",
    "    # Replace the URLs and usernames\n",
    "    text = HTTP_URL_RE.sub(' ', text) # 'url'\n",
    "    text = USER_RE.sub(' ', text)  #user\n",
    "    # Expand contractions before additional processing\n",
    "    text = contractions.fix(text)\n",
    "    # Replace non alpha numeric characters with empty string\n",
    "    text = NON_ALNUM_RE.sub(' ', text)\n",
    "    text = SPACES_RE.sub(' ', text)\n",
    "    # Tokenize the processed text and make n-grams\n",
    "    tokens = tokenizer.tokenize(text)\n",
    "    tokens = [lemmatizer.lemmatize(word) for word in tokens if word not in stop_words]\n",
    "    return make_ngrams(tokens, n_grams)"
   ]
  },
  {
   "cell_type": "code",
   "execution_count": 30,
   "metadata": {
    "id": "CVOhmZXK0Zvx"
   },
   "outputs": [],
   "source": [
    "def make_tokens(row_data: str, n_grams: int = 1) -> List[str]:\n",
    "\n",
    "    return stem_and_tokenize(row_data, wn_lemmatizer, tw_tokenizer, n_grams=n_grams)\n"
   ]
  },
  {
   "cell_type": "code",
   "execution_count": 31,
   "metadata": {
    "id": "9qAXshfi0s4c"
   },
   "outputs": [],
   "source": [
    "local_len = len\n",
    "\n",
    "# sentiment_train_df_processed = sentiment_train_df.copy()\n",
    "sentiment_train_df_processed['tokens'] = sentiment_train_df_processed['text'].apply(make_tokens)\n",
    "sentiment_train_df_processed['text_length'] = sentiment_train_df_processed['text'].apply(local_len)"
   ]
  },
  {
   "cell_type": "code",
   "execution_count": 32,
   "metadata": {
    "colab": {
     "base_uri": "https://localhost:8080/",
     "height": 424
    },
    "executionInfo": {
     "elapsed": 12,
     "status": "ok",
     "timestamp": 1646519662231,
     "user": {
      "displayName": "Atia Islam",
      "photoUrl": "https://lh3.googleusercontent.com/a/default-user=s64",
      "userId": "15495694807362269251"
     },
     "user_tz": 300
    },
    "id": "0YqXMNxR1tKq",
    "outputId": "2ca1071e-cfb3-4534-e7f0-bcc3bb2e071f"
   },
   "outputs": [
    {
     "data": {
      "text/html": [
       "<div>\n",
       "<style scoped>\n",
       "    .dataframe tbody tr th:only-of-type {\n",
       "        vertical-align: middle;\n",
       "    }\n",
       "\n",
       "    .dataframe tbody tr th {\n",
       "        vertical-align: top;\n",
       "    }\n",
       "\n",
       "    .dataframe thead th {\n",
       "        text-align: right;\n",
       "    }\n",
       "</style>\n",
       "<table border=\"1\" class=\"dataframe\">\n",
       "  <thead>\n",
       "    <tr style=\"text-align: right;\">\n",
       "      <th></th>\n",
       "      <th>sentiment</th>\n",
       "      <th>text</th>\n",
       "      <th>tokens</th>\n",
       "      <th>text_length</th>\n",
       "    </tr>\n",
       "  </thead>\n",
       "  <tbody>\n",
       "    <tr>\n",
       "      <th>0</th>\n",
       "      <td>0</td>\n",
       "      <td>@switchfoot http://twitpic.com/2y1zl - Awww, t...</td>\n",
       "      <td>[bummer, shoulda, got, david, carr, third, day]</td>\n",
       "      <td>115</td>\n",
       "    </tr>\n",
       "    <tr>\n",
       "      <th>1</th>\n",
       "      <td>0</td>\n",
       "      <td>is upset that he can't update his Facebook by ...</td>\n",
       "      <td>[upset, cannot, update, facebook, texting, mig...</td>\n",
       "      <td>111</td>\n",
       "    </tr>\n",
       "    <tr>\n",
       "      <th>2</th>\n",
       "      <td>0</td>\n",
       "      <td>@Kenichan I dived many times for the ball. Man...</td>\n",
       "      <td>[dived, many, time, ball, managed, save, 50, r...</td>\n",
       "      <td>89</td>\n",
       "    </tr>\n",
       "    <tr>\n",
       "      <th>3</th>\n",
       "      <td>0</td>\n",
       "      <td>my whole body feels itchy and like its on fire</td>\n",
       "      <td>[whole, body, feel, itchy, like, fire]</td>\n",
       "      <td>47</td>\n",
       "    </tr>\n",
       "    <tr>\n",
       "      <th>4</th>\n",
       "      <td>0</td>\n",
       "      <td>@nationwideclass no, it's not behaving at all....</td>\n",
       "      <td>[behaving, mad, cannot, see]</td>\n",
       "      <td>111</td>\n",
       "    </tr>\n",
       "    <tr>\n",
       "      <th>...</th>\n",
       "      <td>...</td>\n",
       "      <td>...</td>\n",
       "      <td>...</td>\n",
       "      <td>...</td>\n",
       "    </tr>\n",
       "    <tr>\n",
       "      <th>1599995</th>\n",
       "      <td>1</td>\n",
       "      <td>Just woke up. Having no school is the best fee...</td>\n",
       "      <td>[woke, school, best, feeling, ever]</td>\n",
       "      <td>56</td>\n",
       "    </tr>\n",
       "    <tr>\n",
       "      <th>1599996</th>\n",
       "      <td>1</td>\n",
       "      <td>TheWDB.com - Very cool to hear old Walt interv...</td>\n",
       "      <td>[thewdb, com, cool, hear, old, walt, interview]</td>\n",
       "      <td>78</td>\n",
       "    </tr>\n",
       "    <tr>\n",
       "      <th>1599997</th>\n",
       "      <td>1</td>\n",
       "      <td>Are you ready for your MoJo Makeover? Ask me f...</td>\n",
       "      <td>[ready, mojo, makeover, ask, detail]</td>\n",
       "      <td>57</td>\n",
       "    </tr>\n",
       "    <tr>\n",
       "      <th>1599998</th>\n",
       "      <td>1</td>\n",
       "      <td>Happy 38th Birthday to my boo of alll time!!! ...</td>\n",
       "      <td>[happy, 38th, birthday, boo, alll, time, tupac...</td>\n",
       "      <td>65</td>\n",
       "    </tr>\n",
       "    <tr>\n",
       "      <th>1599999</th>\n",
       "      <td>1</td>\n",
       "      <td>happy #charitytuesday @theNSPCC @SparksCharity...</td>\n",
       "      <td>[happy, charitytuesday]</td>\n",
       "      <td>62</td>\n",
       "    </tr>\n",
       "  </tbody>\n",
       "</table>\n",
       "<p>1600000 rows × 4 columns</p>\n",
       "</div>"
      ],
      "text/plain": [
       "         sentiment                                               text  \\\n",
       "0                0  @switchfoot http://twitpic.com/2y1zl - Awww, t...   \n",
       "1                0  is upset that he can't update his Facebook by ...   \n",
       "2                0  @Kenichan I dived many times for the ball. Man...   \n",
       "3                0    my whole body feels itchy and like its on fire    \n",
       "4                0  @nationwideclass no, it's not behaving at all....   \n",
       "...            ...                                                ...   \n",
       "1599995          1  Just woke up. Having no school is the best fee...   \n",
       "1599996          1  TheWDB.com - Very cool to hear old Walt interv...   \n",
       "1599997          1  Are you ready for your MoJo Makeover? Ask me f...   \n",
       "1599998          1  Happy 38th Birthday to my boo of alll time!!! ...   \n",
       "1599999          1  happy #charitytuesday @theNSPCC @SparksCharity...   \n",
       "\n",
       "                                                    tokens  text_length  \n",
       "0          [bummer, shoulda, got, david, carr, third, day]          115  \n",
       "1        [upset, cannot, update, facebook, texting, mig...          111  \n",
       "2        [dived, many, time, ball, managed, save, 50, r...           89  \n",
       "3                   [whole, body, feel, itchy, like, fire]           47  \n",
       "4                             [behaving, mad, cannot, see]          111  \n",
       "...                                                    ...          ...  \n",
       "1599995                [woke, school, best, feeling, ever]           56  \n",
       "1599996    [thewdb, com, cool, hear, old, walt, interview]           78  \n",
       "1599997               [ready, mojo, makeover, ask, detail]           57  \n",
       "1599998  [happy, 38th, birthday, boo, alll, time, tupac...           65  \n",
       "1599999                            [happy, charitytuesday]           62  \n",
       "\n",
       "[1600000 rows x 4 columns]"
      ]
     },
     "execution_count": 32,
     "metadata": {},
     "output_type": "execute_result"
    }
   ],
   "source": [
    "sentiment_train_df_processed"
   ]
  },
  {
   "cell_type": "markdown",
   "metadata": {
    "id": "W5Kg-ciU16n0"
   },
   "source": [
    "### Setup n-gram strings"
   ]
  },
  {
   "cell_type": "code",
   "execution_count": 33,
   "metadata": {
    "colab": {
     "base_uri": "https://localhost:8080/",
     "height": 991
    },
    "executionInfo": {
     "elapsed": 10791,
     "status": "ok",
     "timestamp": 1646519673014,
     "user": {
      "displayName": "Atia Islam",
      "photoUrl": "https://lh3.googleusercontent.com/a/default-user=s64",
      "userId": "15495694807362269251"
     },
     "user_tz": 300
    },
    "id": "QI16ULun1wTX",
    "outputId": "4dec8d64-11d7-48f2-a28e-0ee0078843d5"
   },
   "outputs": [
    {
     "data": {
      "text/html": [
       "<div>\n",
       "<style scoped>\n",
       "    .dataframe tbody tr th:only-of-type {\n",
       "        vertical-align: middle;\n",
       "    }\n",
       "\n",
       "    .dataframe tbody tr th {\n",
       "        vertical-align: top;\n",
       "    }\n",
       "\n",
       "    .dataframe thead th {\n",
       "        text-align: right;\n",
       "    }\n",
       "</style>\n",
       "<table border=\"1\" class=\"dataframe\">\n",
       "  <thead>\n",
       "    <tr style=\"text-align: right;\">\n",
       "      <th></th>\n",
       "      <th>sentiment</th>\n",
       "      <th>text</th>\n",
       "      <th>tokens</th>\n",
       "      <th>text_length</th>\n",
       "      <th>unigrams</th>\n",
       "      <th>unigrams_length</th>\n",
       "      <th>unigram_to_text</th>\n",
       "      <th>bigrams</th>\n",
       "      <th>trigrams</th>\n",
       "    </tr>\n",
       "  </thead>\n",
       "  <tbody>\n",
       "    <tr>\n",
       "      <th>0</th>\n",
       "      <td>0</td>\n",
       "      <td>@switchfoot http://twitpic.com/2y1zl - Awww, t...</td>\n",
       "      <td>[bummer, shoulda, got, david, carr, third, day]</td>\n",
       "      <td>115</td>\n",
       "      <td>bummer shoulda got david carr third day</td>\n",
       "      <td>39</td>\n",
       "      <td>0.339130</td>\n",
       "      <td>bummer_shoulda shoulda_got got_david david_car...</td>\n",
       "      <td>bummer_shoulda_got shoulda_got_david got_david...</td>\n",
       "    </tr>\n",
       "    <tr>\n",
       "      <th>1</th>\n",
       "      <td>0</td>\n",
       "      <td>is upset that he can't update his Facebook by ...</td>\n",
       "      <td>[upset, cannot, update, facebook, texting, mig...</td>\n",
       "      <td>111</td>\n",
       "      <td>upset cannot update facebook texting might cry...</td>\n",
       "      <td>76</td>\n",
       "      <td>0.684685</td>\n",
       "      <td>upset_cannot cannot_update update_facebook fac...</td>\n",
       "      <td>upset_cannot_update cannot_update_facebook upd...</td>\n",
       "    </tr>\n",
       "    <tr>\n",
       "      <th>2</th>\n",
       "      <td>0</td>\n",
       "      <td>@Kenichan I dived many times for the ball. Man...</td>\n",
       "      <td>[dived, many, time, ball, managed, save, 50, r...</td>\n",
       "      <td>89</td>\n",
       "      <td>dived many time ball managed save 50 rest go b...</td>\n",
       "      <td>50</td>\n",
       "      <td>0.561798</td>\n",
       "      <td>dived_many many_time time_ball ball_managed ma...</td>\n",
       "      <td>dived_many_time many_time_ball time_ball_manag...</td>\n",
       "    </tr>\n",
       "    <tr>\n",
       "      <th>3</th>\n",
       "      <td>0</td>\n",
       "      <td>my whole body feels itchy and like its on fire</td>\n",
       "      <td>[whole, body, feel, itchy, like, fire]</td>\n",
       "      <td>47</td>\n",
       "      <td>whole body feel itchy like fire</td>\n",
       "      <td>31</td>\n",
       "      <td>0.659574</td>\n",
       "      <td>whole_body body_feel feel_itchy itchy_like lik...</td>\n",
       "      <td>whole_body_feel body_feel_itchy feel_itchy_lik...</td>\n",
       "    </tr>\n",
       "    <tr>\n",
       "      <th>4</th>\n",
       "      <td>0</td>\n",
       "      <td>@nationwideclass no, it's not behaving at all....</td>\n",
       "      <td>[behaving, mad, cannot, see]</td>\n",
       "      <td>111</td>\n",
       "      <td>behaving mad cannot see</td>\n",
       "      <td>23</td>\n",
       "      <td>0.207207</td>\n",
       "      <td>behaving_mad mad_cannot cannot_see</td>\n",
       "      <td>behaving_mad_cannot mad_cannot_see</td>\n",
       "    </tr>\n",
       "    <tr>\n",
       "      <th>...</th>\n",
       "      <td>...</td>\n",
       "      <td>...</td>\n",
       "      <td>...</td>\n",
       "      <td>...</td>\n",
       "      <td>...</td>\n",
       "      <td>...</td>\n",
       "      <td>...</td>\n",
       "      <td>...</td>\n",
       "      <td>...</td>\n",
       "    </tr>\n",
       "    <tr>\n",
       "      <th>1599995</th>\n",
       "      <td>1</td>\n",
       "      <td>Just woke up. Having no school is the best fee...</td>\n",
       "      <td>[woke, school, best, feeling, ever]</td>\n",
       "      <td>56</td>\n",
       "      <td>woke school best feeling ever</td>\n",
       "      <td>29</td>\n",
       "      <td>0.517857</td>\n",
       "      <td>woke_school school_best best_feeling feeling_ever</td>\n",
       "      <td>woke_school_best school_best_feeling best_feel...</td>\n",
       "    </tr>\n",
       "    <tr>\n",
       "      <th>1599996</th>\n",
       "      <td>1</td>\n",
       "      <td>TheWDB.com - Very cool to hear old Walt interv...</td>\n",
       "      <td>[thewdb, com, cool, hear, old, walt, interview]</td>\n",
       "      <td>78</td>\n",
       "      <td>thewdb com cool hear old walt interview</td>\n",
       "      <td>39</td>\n",
       "      <td>0.500000</td>\n",
       "      <td>thewdb_com com_cool cool_hear hear_old old_wal...</td>\n",
       "      <td>thewdb_com_cool com_cool_hear cool_hear_old he...</td>\n",
       "    </tr>\n",
       "    <tr>\n",
       "      <th>1599997</th>\n",
       "      <td>1</td>\n",
       "      <td>Are you ready for your MoJo Makeover? Ask me f...</td>\n",
       "      <td>[ready, mojo, makeover, ask, detail]</td>\n",
       "      <td>57</td>\n",
       "      <td>ready mojo makeover ask detail</td>\n",
       "      <td>30</td>\n",
       "      <td>0.526316</td>\n",
       "      <td>ready_mojo mojo_makeover makeover_ask ask_detail</td>\n",
       "      <td>ready_mojo_makeover mojo_makeover_ask makeover...</td>\n",
       "    </tr>\n",
       "    <tr>\n",
       "      <th>1599998</th>\n",
       "      <td>1</td>\n",
       "      <td>Happy 38th Birthday to my boo of alll time!!! ...</td>\n",
       "      <td>[happy, 38th, birthday, boo, alll, time, tupac...</td>\n",
       "      <td>65</td>\n",
       "      <td>happy 38th birthday boo alll time tupac amaru ...</td>\n",
       "      <td>52</td>\n",
       "      <td>0.800000</td>\n",
       "      <td>happy_38th 38th_birthday birthday_boo boo_alll...</td>\n",
       "      <td>happy_38th_birthday 38th_birthday_boo birthday...</td>\n",
       "    </tr>\n",
       "    <tr>\n",
       "      <th>1599999</th>\n",
       "      <td>1</td>\n",
       "      <td>happy #charitytuesday @theNSPCC @SparksCharity...</td>\n",
       "      <td>[happy, charitytuesday]</td>\n",
       "      <td>62</td>\n",
       "      <td>happy charitytuesday</td>\n",
       "      <td>20</td>\n",
       "      <td>0.322581</td>\n",
       "      <td>happy_charitytuesday</td>\n",
       "      <td>happy charitytuesday</td>\n",
       "    </tr>\n",
       "  </tbody>\n",
       "</table>\n",
       "<p>1600000 rows × 9 columns</p>\n",
       "</div>"
      ],
      "text/plain": [
       "         sentiment                                               text  \\\n",
       "0                0  @switchfoot http://twitpic.com/2y1zl - Awww, t...   \n",
       "1                0  is upset that he can't update his Facebook by ...   \n",
       "2                0  @Kenichan I dived many times for the ball. Man...   \n",
       "3                0    my whole body feels itchy and like its on fire    \n",
       "4                0  @nationwideclass no, it's not behaving at all....   \n",
       "...            ...                                                ...   \n",
       "1599995          1  Just woke up. Having no school is the best fee...   \n",
       "1599996          1  TheWDB.com - Very cool to hear old Walt interv...   \n",
       "1599997          1  Are you ready for your MoJo Makeover? Ask me f...   \n",
       "1599998          1  Happy 38th Birthday to my boo of alll time!!! ...   \n",
       "1599999          1  happy #charitytuesday @theNSPCC @SparksCharity...   \n",
       "\n",
       "                                                    tokens  text_length  \\\n",
       "0          [bummer, shoulda, got, david, carr, third, day]          115   \n",
       "1        [upset, cannot, update, facebook, texting, mig...          111   \n",
       "2        [dived, many, time, ball, managed, save, 50, r...           89   \n",
       "3                   [whole, body, feel, itchy, like, fire]           47   \n",
       "4                             [behaving, mad, cannot, see]          111   \n",
       "...                                                    ...          ...   \n",
       "1599995                [woke, school, best, feeling, ever]           56   \n",
       "1599996    [thewdb, com, cool, hear, old, walt, interview]           78   \n",
       "1599997               [ready, mojo, makeover, ask, detail]           57   \n",
       "1599998  [happy, 38th, birthday, boo, alll, time, tupac...           65   \n",
       "1599999                            [happy, charitytuesday]           62   \n",
       "\n",
       "                                                  unigrams  unigrams_length  \\\n",
       "0                  bummer shoulda got david carr third day               39   \n",
       "1        upset cannot update facebook texting might cry...               76   \n",
       "2        dived many time ball managed save 50 rest go b...               50   \n",
       "3                          whole body feel itchy like fire               31   \n",
       "4                                  behaving mad cannot see               23   \n",
       "...                                                    ...              ...   \n",
       "1599995                      woke school best feeling ever               29   \n",
       "1599996            thewdb com cool hear old walt interview               39   \n",
       "1599997                     ready mojo makeover ask detail               30   \n",
       "1599998  happy 38th birthday boo alll time tupac amaru ...               52   \n",
       "1599999                               happy charitytuesday               20   \n",
       "\n",
       "         unigram_to_text                                            bigrams  \\\n",
       "0               0.339130  bummer_shoulda shoulda_got got_david david_car...   \n",
       "1               0.684685  upset_cannot cannot_update update_facebook fac...   \n",
       "2               0.561798  dived_many many_time time_ball ball_managed ma...   \n",
       "3               0.659574  whole_body body_feel feel_itchy itchy_like lik...   \n",
       "4               0.207207                 behaving_mad mad_cannot cannot_see   \n",
       "...                  ...                                                ...   \n",
       "1599995         0.517857  woke_school school_best best_feeling feeling_ever   \n",
       "1599996         0.500000  thewdb_com com_cool cool_hear hear_old old_wal...   \n",
       "1599997         0.526316   ready_mojo mojo_makeover makeover_ask ask_detail   \n",
       "1599998         0.800000  happy_38th 38th_birthday birthday_boo boo_alll...   \n",
       "1599999         0.322581                               happy_charitytuesday   \n",
       "\n",
       "                                                  trigrams  \n",
       "0        bummer_shoulda_got shoulda_got_david got_david...  \n",
       "1        upset_cannot_update cannot_update_facebook upd...  \n",
       "2        dived_many_time many_time_ball time_ball_manag...  \n",
       "3        whole_body_feel body_feel_itchy feel_itchy_lik...  \n",
       "4                       behaving_mad_cannot mad_cannot_see  \n",
       "...                                                    ...  \n",
       "1599995  woke_school_best school_best_feeling best_feel...  \n",
       "1599996  thewdb_com_cool com_cool_hear cool_hear_old he...  \n",
       "1599997  ready_mojo_makeover mojo_makeover_ask makeover...  \n",
       "1599998  happy_38th_birthday 38th_birthday_boo birthday...  \n",
       "1599999                               happy charitytuesday  \n",
       "\n",
       "[1600000 rows x 9 columns]"
      ]
     },
     "execution_count": 33,
     "metadata": {},
     "output_type": "execute_result"
    }
   ],
   "source": [
    "n_gram_options = {\n",
    "    'unigrams': 1,\n",
    "    'bigrams': 2,\n",
    "    'trigrams': 3,\n",
    "}\n",
    "\n",
    "for n_gram, n in n_gram_options.items():\n",
    "    sentiment_train_df_processed[n_gram] = sentiment_train_df_processed['tokens'].apply(lambda x: ' '.join(make_ngrams(x, n)))\n",
    "    # Add string length, token:text ratio for unigrams only\n",
    "    if n == 1:\n",
    "        sentiment_train_df_processed[f\"{n_gram}_length\"] = sentiment_train_df_processed[n_gram].apply(len)\n",
    "        sentiment_train_df_processed['unigram_to_text'] = sentiment_train_df_processed[f\"{n_gram}_length\"]/sentiment_train_df_processed['text_length']\n",
    "\n",
    "sentiment_train_df_processed"
   ]
  },
  {
   "cell_type": "markdown",
   "metadata": {
    "id": "95Q45HeL2Lzj"
   },
   "source": [
    "### Count word_frequency using WordCloud"
   ]
  },
  {
   "cell_type": "code",
   "execution_count": 34,
   "metadata": {
    "id": "A-lmts3G1wPc"
   },
   "outputs": [],
   "source": [
    "from collections import Counter\n",
    "from typing import Tuple, List, Dict\n",
    "\n",
    "class FrequencyCollection:\n",
    "    \"\"\"\n",
    "    A simple class that contains positive, negative, and total frequency counts\n",
    "    for the provided string.\n",
    "    \"\"\"\n",
    "\n",
    "    def __init__(self, all_counts: Dict[str, int], pos: Dict[str, int], neg: Dict[str, int]):\n",
    "        self.all_counts = all_counts\n",
    "        self.pos = pos\n",
    "        self.neg = neg\n",
    "\n",
    "\n",
    "def create_frequency_counts(feature_col: str) -> Tuple[Dict[str, int], Dict[str, int], Dict[str, int]]:\n",
    "    \"\"\"\n",
    "    Create frequency count dictionary for the given feature column from the\n",
    "    processed data frame.\n",
    "\n",
    "    :param feature_col: The name of the feature column of which to count.\n",
    "    :type feature_col: str\n",
    "    :return: A tuple consisting of all counts, positive counts, and negative counts\n",
    "    :rtype: tuple on Python 3.x containing three dict objects\n",
    "    \"\"\"\n",
    "    all_counts = Counter()\n",
    "    pos_counts = Counter()\n",
    "    neg_counts = Counter()\n",
    "\n",
    "    def count_tokens_from_list(sentiment: int, tokens: List[str]):\n",
    "        if sentiment == 0:\n",
    "            neg_counts.update(tokens)\n",
    "        else:\n",
    "            pos_counts.update(tokens)\n",
    "        all_counts.update(tokens)\n",
    "\n",
    "\n",
    "    if feature_col == 'tokens':\n",
    "        sentiment_train_df_processed.loc[sentiment_train_df_processed['sentiment'] == 0, feature_col].apply(lambda x: count_tokens_from_list(0, x))\n",
    "        print(\"Finished counting negative tokens\")\n",
    "        sentiment_train_df_processed.loc[sentiment_train_df_processed['sentiment'] != 0, feature_col].apply(lambda x: count_tokens_from_list(1, x))\n",
    "        print(\"Finished counting positive tokens\")\n",
    "    else:\n",
    "        sentiment_train_df_processed.loc[sentiment_train_df_processed['sentiment'] == 0, feature_col].apply(lambda x: count_tokens_from_list(0, x.split(' ')))\n",
    "        print(f\"Finished counting negative {feature_col.title()}\")\n",
    "        sentiment_train_df_processed.loc[sentiment_train_df_processed['sentiment'] != 0, feature_col].apply(lambda x: count_tokens_from_list(1, x.split(' ')))\n",
    "        print(f\"Finished counting positive {feature_col.title()}\")\n",
    "\n",
    "    return FrequencyCollection(all_counts, pos_counts, neg_counts)\n",
    "\n",
    "\n",
    "def word_cloud_from_dict(title: str,\n",
    "                         sub_title: str,\n",
    "                         word_counts: Dict[str, int],\n",
    "                         fig: Figure, subplot: Tuple[int, int, int],\n",
    "                         max_words: int = 100,\n",
    "                         bg_color: str = 'white'):\n",
    "    \"\"\"\n",
    "    Create a word cloud from the supplied frequency dictionary.\n",
    "\n",
    "    The word cloud from dict function expects a dictionary representing\n",
    "    the frequency of a given word in the given context. The function adds\n",
    "    an image to the provided subplot location.\n",
    "\n",
    "    \"\"\"\n",
    "    # Create the word cloud image\n",
    "    wc = WordCloud(max_words=max_words, width=1600, height=800,\n",
    "                   collocations=False,\n",
    "                   background_color=bg_color)\n",
    "    wc.generate_from_frequencies(word_counts)\n",
    "\n",
    "    # Add to the provided figure and subplot\n",
    "    fig.add_subplot(*subplot)\n",
    "    plt.imshow(wc, interpolation=\"bilinear\")\n",
    "    plt.axis('off')\n",
    "    plt.title(f\"{title.title()}\\n{sub_title.title()} Sentiment\", fontdict={'fontsize': 20})\n",
    "\n",
    "\n",
    "def make_frequency_clouds(fig: Figure, pos_counts: Dict[str, int], neg_counts: Dict[str, int],\n",
    "                          feature_col: str, rows: int, cols: int, idx: int, max_words: int = 100):\n",
    "    \"\"\"\n",
    "    A helper function for creating word cloud comparisons using the positive or negative\n",
    "    labeled text examples. Resulting images will be output to the relative path of ./images/\n",
    "    for use in associated documentation.\n",
    "\n",
    "    :param cleaned_data: The cleaned data frame for the sentiment140 training data. Assumed to be\n",
    "                         in the sorted order such that the first 800000 rows contain negative examples.\n",
    "    :type clened_data: pandas.core.frame.DataFrame\n",
    "    :param feature_col: The feature column name that we want to make a word cloud from. This column must\n",
    "                        contain a space separated string value for processing.\n",
    "    :type feature_col: string\n",
    "    \"\"\"\n",
    "    # Observation tells us that these words don't contribute much to the informative value of the figures\n",
    "    word_cloud_from_dict(feature_col, \"Negative\", neg_counts, fig, (rows, cols, (2 * idx + 1)), bg_color='red')\n",
    "    word_cloud_from_dict(feature_col, \"Positive\", pos_counts, fig, (rows, cols, (2 * idx + 2)), bg_color='whitesmoke')\n"
   ]
  },
  {
   "cell_type": "code",
   "execution_count": 35,
   "metadata": {
    "colab": {
     "base_uri": "https://localhost:8080/"
    },
    "executionInfo": {
     "elapsed": 31811,
     "status": "ok",
     "timestamp": 1646519704820,
     "user": {
      "displayName": "Atia Islam",
      "photoUrl": "https://lh3.googleusercontent.com/a/default-user=s64",
      "userId": "15495694807362269251"
     },
     "user_tz": 300
    },
    "id": "4qnduxbE1wNN",
    "outputId": "a7f9c76f-1fab-4250-e089-05b4458fbbf5"
   },
   "outputs": [
    {
     "name": "stdout",
     "output_type": "stream",
     "text": [
      "Finished counting negative tokens\n",
      "Finished counting positive tokens\n",
      "Finished counting negative Bigrams\n",
      "Finished counting positive Bigrams\n",
      "Finished counting negative Trigrams\n",
      "Finished counting positive Trigrams\n"
     ]
    }
   ],
   "source": [
    "# Create simple frequency count objects to work with\n",
    "\n",
    "token_counts = create_frequency_counts('tokens')\n",
    "bigrams_counts= create_frequency_counts('bigrams')\n",
    "trigrams_counts = create_frequency_counts('trigrams')\n",
    "\n",
    "frequency_counts= [token_counts, bigrams_counts, trigrams_counts]\n"
   ]
  },
  {
   "cell_type": "code",
   "execution_count": 36,
   "metadata": {
    "id": "KaB-V1p91wLE"
   },
   "outputs": [],
   "source": [
    "# for feature_col in n_gram_options.keys():\n",
    "#     fig = plt.figure(figsize=(16, 16))\n",
    "#     rows, cols = 2, 2\n",
    "\n",
    "#     make_frequency_clouds(fig, token_counts.pos, token_counts.neg, feature_col, rows, cols, 0)\n",
    "\n",
    "#     fig.suptitle(f\"Word Cloud Visualizations: {feature_col.title()}\", fontsize=24)\n",
    "#     fig.tight_layout()\n",
    "# plt.show()\n",
    "# plt.close()"
   ]
  },
  {
   "cell_type": "markdown",
   "metadata": {
    "id": "M0xAQrN52oTc"
   },
   "source": [
    "### Histogram: Most Common N-Grams by Sentiment\n"
   ]
  },
  {
   "cell_type": "code",
   "execution_count": 37,
   "metadata": {
    "id": "Y81JUNX01wIZ"
   },
   "outputs": [],
   "source": [
    "def top_count_histogram(token_counts: FrequencyCollection,\n",
    "                        feature_col: str,\n",
    "                        n_most_common: int,\n",
    "                        figsize: Tuple[int, int] = (16, 16)):\n",
    "\n",
    "\n",
    "    fig, axes = plt.subplots(nrows=2, ncols=1, figsize=figsize)\n",
    "\n",
    "    # Plot histogram of the top 25 most common words for positive sentiment\n",
    "    pos_token_df = pd.DataFrame(token_counts.pos.most_common(n_most_common), columns=['token', 'count'])\n",
    "    pos_token_df[pos_token_df['token'] != ''].plot(x='token', y='count', kind='bar', title=\"Positive Token Counts\", \n",
    "                                                   color='green' ,ax=axes[0])\n",
    "    # Plot histogram of the top 25 most common words for negative sentiment\n",
    "    neg_token_df = pd.DataFrame(token_counts.neg.most_common(n_most_common), columns=['token', 'count'])\n",
    "    neg_token_df[neg_token_df['token'] != ''].plot(x='token', y='count', kind='bar', title=\"Negative Token Counts\",\n",
    "                                                   color='pink' ,ax=axes[1])\n",
    "    for ax in axes:\n",
    "        ax.title.set_size(20)\n",
    "    fig.tight_layout(pad=10.0)\n",
    "    fig.suptitle(f\"Frequency Histogram: {feature_col.title()}\", fontsize=24)\n",
    "    plt.show()\n",
    "    plt.close()"
   ]
  },
  {
   "cell_type": "markdown",
   "metadata": {
    "id": "J_U3xx_O2ztL"
   },
   "source": [
    "\n",
    "### Top 25 Token Counts - Unigrams\n",
    "\n"
   ]
  },
  {
   "cell_type": "code",
   "execution_count": 38,
   "metadata": {
    "colab": {
     "base_uri": "https://localhost:8080/",
     "height": 1000
    },
    "executionInfo": {
     "elapsed": 558,
     "status": "ok",
     "timestamp": 1646519722977,
     "user": {
      "displayName": "Atia Islam",
      "photoUrl": "https://lh3.googleusercontent.com/a/default-user=s64",
      "userId": "15495694807362269251"
     },
     "user_tz": 300
    },
    "id": "3slAQlA21wFg",
    "outputId": "4d95aa5f-4585-4a70-9a93-3d14ac57c9c3"
   },
   "outputs": [
    {
     "data": {
      "image/png": "[encoded data removed]",
      "text/plain": [
       "<Figure size 1152x1152 with 2 Axes>"
      ]
     },
     "metadata": {
      "needs_background": "light"
     },
     "output_type": "display_data"
    }
   ],
   "source": [
    "top_count_histogram(token_counts, 'tokens', 25)"
   ]
  },
  {
   "cell_type": "markdown",
   "metadata": {
    "id": "zV54rMoI28ye"
   },
   "source": [
    "### Top 25 Token Counts - Bigrams"
   ]
  },
  {
   "cell_type": "code",
   "execution_count": 39,
   "metadata": {
    "colab": {
     "base_uri": "https://localhost:8080/",
     "height": 1000
    },
    "executionInfo": {
     "elapsed": 1433,
     "status": "ok",
     "timestamp": 1646519724404,
     "user": {
      "displayName": "Atia Islam",
      "photoUrl": "https://lh3.googleusercontent.com/a/default-user=s64",
      "userId": "15495694807362269251"
     },
     "user_tz": 300
    },
    "id": "KDikJnNr1wAZ",
    "outputId": "ed5586b0-a4a8-4468-f9c6-832371dbb66c"
   },
   "outputs": [
    {
     "data": {
      "image/png": "[encoded data removed]",
      "text/plain": [
       "<Figure size 1152x1152 with 2 Axes>"
      ]
     },
     "metadata": {
      "needs_background": "light"
     },
     "output_type": "display_data"
    }
   ],
   "source": [
    "top_count_histogram(bigrams_counts, 'bigrams', 25)"
   ]
  },
  {
   "cell_type": "markdown",
   "metadata": {
    "id": "vhmtZDS23DnK"
   },
   "source": [
    "### Top 25 Token Counts - Trigrams"
   ]
  },
  {
   "cell_type": "code",
   "execution_count": 40,
   "metadata": {
    "colab": {
     "base_uri": "https://localhost:8080/",
     "height": 1000
    },
    "executionInfo": {
     "elapsed": 1295,
     "status": "ok",
     "timestamp": 1646519725693,
     "user": {
      "displayName": "Atia Islam",
      "photoUrl": "https://lh3.googleusercontent.com/a/default-user=s64",
      "userId": "15495694807362269251"
     },
     "user_tz": 300
    },
    "id": "11FvY4IA3Ffi",
    "outputId": "42e909bd-8156-49aa-dcbc-a2ac7e4d554f"
   },
   "outputs": [
    {
     "data": {
      "image/png": "[encoded data removed]",
      "text/plain": [
       "<Figure size 1152x1152 with 2 Axes>"
      ]
     },
     "metadata": {
      "needs_background": "light"
     },
     "output_type": "display_data"
    }
   ],
   "source": [
    "top_count_histogram(trigrams_counts, 'trigrams', 25)"
   ]
  },
  {
   "cell_type": "markdown",
   "metadata": {
    "id": "1HgdDSLIVs40"
   },
   "source": [
    "# Naive Bayes"
   ]
  },
  {
   "cell_type": "markdown",
   "metadata": {
    "id": "V2cktzgqdGZB"
   },
   "source": [
    "## Function and Class Definitions"
   ]
  },
  {
   "cell_type": "markdown",
   "metadata": {
    "id": "o5p2O6rNKWSr"
   },
   "source": [
    "### Accuracy/Error Function"
   ]
  },
  {
   "cell_type": "code",
   "execution_count": 41,
   "metadata": {
    "executionInfo": {
     "elapsed": 5,
     "status": "ok",
     "timestamp": 1646705908136,
     "user": {
      "displayName": "George Qiao",
      "photoUrl": "https://lh3.googleusercontent.com/a-/AOh14GjQOj1-eyxkc57OuImXYnZ4X7LC-pvGo_48nt5B=s64",
      "userId": "12009838858184003601"
     },
     "user_tz": 300
    },
    "id": "tXchViwOcvYf"
   },
   "outputs": [],
   "source": [
    "# Calculate accuracy\n",
    "evaluate_acc = lambda y_test, y_pred: np.sum(y_test == y_pred)/y_test.shape[0]*100\n",
    "evaluate_err = lambda y_test, y_pred: (1-np.sum(y_test == y_pred)/y_test.shape[0])*100"
   ]
  },
  {
   "cell_type": "markdown",
   "metadata": {
    "id": "EBhkls5CYNYP"
   },
   "source": [
    "### Gaussian Naive Bayes Class Definition"
   ]
  },
  {
   "cell_type": "code",
   "execution_count": 42,
   "metadata": {
    "executionInfo": {
     "elapsed": 270,
     "status": "ok",
     "timestamp": 1646710103554,
     "user": {
      "displayName": "George Qiao",
      "photoUrl": "https://lh3.googleusercontent.com/a-/AOh14GjQOj1-eyxkc57OuImXYnZ4X7LC-pvGo_48nt5B=s64",
      "userId": "12009838858184003601"
     },
     "user_tz": 300
    },
    "id": "PNsnx3-yKWSr"
   },
   "outputs": [],
   "source": [
    "class GaussianNaiveBayes:\n",
    "    \n",
    "    def __init__(self):\n",
    "        return\n",
    "    \n",
    "    def fit(self, x, y):\n",
    "        N, D = x.shape\n",
    "        C = np.max(y) + 1\n",
    "        # one parameter for each feature conditioned on each class\n",
    "        mu, sigma = np.zeros((C,D)), np.zeros((C,D))\n",
    "        Nc = np.zeros(C) # number of instances in class c\n",
    "        # for each class get the MLE for the mean and std\n",
    "        scaler = StandardScaler(with_mean=False)\n",
    "        for c in range(C):\n",
    "            sum = np.zeros((1,D))\n",
    "            sum_sqr = np.zeros((1,D))                       \n",
    "            for i in range(x.shape[0]):               #slice all the elements from class c\n",
    "                if (y[i] == c):\n",
    "                    Nc[c] += 1                        #get number of elements of class c\n",
    "                    sum = sum + x[i,:]\n",
    "                    sum_sqr = sum_sqr + x[i,:].multiply(x[i,:])\n",
    "            mu[c,:] = sum/Nc[c]                       #mean of features of class c\n",
    "            sigma[c,:] = np.sqrt(sum_sqr - Nc[c] * np.square(sum))  #std of features of class c\n",
    "            \n",
    "        self.mu = mu                                  # C x D\n",
    "        self.sigma = sigma + np.finfo(np.float64).eps # C x D (added eps to avoid divide-by-zero error)\n",
    "        self.pi = (Nc+1)/(N+C)                        #Laplace smoothing (using alpha_c=1 for all c) you can derive using Dirichlet's distribution\n",
    "        return self\n",
    "\n",
    "def logsumexp(Z):                                                # dimension C x N\n",
    "    Zmax = np.max(Z,axis=0)[None,:]                              # max over C\n",
    "    log_sum_exp = Zmax + np.log(np.sum(np.exp(Z - Zmax), axis=0))\n",
    "    return log_sum_exp\n",
    "\n",
    "def predict(self, xt):\n",
    "    Nt, D = xt.shape\n",
    "    # for numerical stability we work in the log domain\n",
    "    # we add a dimension because this is added to the log-likelihood matrix \n",
    "    # that assigns a likelihood for each class (C) to each test point, and so it is C x N\n",
    "    log_prior = np.log(self.pi)[:, None]\n",
    "    # logarithm of the likelihood term for Gaussian \n",
    "    # the first two terms are the logarithm of the normalization term in the Gaussian and the final term is the exponent in the Gaussian. \n",
    "    # Notice that we are adding dimensions (using None) to model parameters and data to make this evaluation. \n",
    "    # The reason is that sigma and mu are C x D, while the data x is N x D. We operate on a C x N x D shape by increasing the number of dimensions when needed\n",
    "    # Sparse matrices do NOT support 3D; instead we can loop through N data points and compute D likelihoods for each\n",
    "    log_likelihood = np.zeros((Nt,self.mu.shape[0]))       # N x C\n",
    "    for N in range(Nt):\n",
    "        log_likelihood_N = -.5 * np.log(2*np.pi) - np.log(self.sigma) -.5 * np.square((sparse.csr_matrix(np.ones([self.mu.shape[0],1])) * xt[N,:] - self.mu)/self.sigma)    # C x D\n",
    "        # now we sum over the feature dimension (this has the log-likelihood for each class-test point combination)\n",
    "        log_likelihood[N,:] = np.sum(log_likelihood_N, axis=1).reshape((1,self.mu.shape[0]))   # 1 x C array\n",
    "    # posterior calculation\n",
    "    log_posterior = log_prior + log_likelihood.T\n",
    "    posterior = np.exp(log_posterior - logsumexp(log_posterior))\n",
    "    return posterior.T                                                  # dimension N x C\n",
    "\n",
    "GaussianNaiveBayes.predict = predict"
   ]
  },
  {
   "cell_type": "markdown",
   "metadata": {
    "id": "6kWKIpWEKWSr"
   },
   "source": [
    "### Cross-Validation Function Definition"
   ]
  },
  {
   "cell_type": "code",
   "execution_count": 43,
   "metadata": {
    "executionInfo": {
     "elapsed": 100,
     "status": "ok",
     "timestamp": 1646705912764,
     "user": {
      "displayName": "George Qiao",
      "photoUrl": "https://lh3.googleusercontent.com/a-/AOh14GjQOj1-eyxkc57OuImXYnZ4X7LC-pvGo_48nt5B=s64",
      "userId": "12009838858184003601"
     },
     "user_tz": 300
    },
    "id": "OQ1qbTmNKWSr"
   },
   "outputs": [],
   "source": [
    "def cross_validation_split(n, n_folds=10):\n",
    "    #get the number of data samples in each split\n",
    "    n_val = n // n_folds\n",
    "    for f in range(n_folds):\n",
    "        val_start = f * n_val\n",
    "        val_end = f * n_val + n_val - 1\n",
    "        #The yield statement suspends function’s execution and sends a value back to the caller\n",
    "        #but retains enough state information to enable function to resume where it is left off\n",
    "        yield val_start, val_end"
   ]
  },
  {
   "cell_type": "markdown",
   "metadata": {
    "id": "K-1jCspqUsdw"
   },
   "source": [
    "## Running Experiments"
   ]
  },
  {
   "cell_type": "markdown",
   "metadata": {
    "id": "KB4y9kNSUl2d"
   },
   "source": [
    "### Preparation"
   ]
  },
  {
   "cell_type": "code",
   "execution_count": 44,
   "metadata": {
    "colab": {
     "base_uri": "https://localhost:8080/"
    },
    "executionInfo": {
     "elapsed": 111,
     "status": "ok",
     "timestamp": 1646706007234,
     "user": {
      "displayName": "George Qiao",
      "photoUrl": "https://lh3.googleusercontent.com/a-/AOh14GjQOj1-eyxkc57OuImXYnZ4X7LC-pvGo_48nt5B=s64",
      "userId": "12009838858184003601"
     },
     "user_tz": 300
    },
    "id": "2orgTbcxKWSs",
    "outputId": "0d9007db-099c-48eb-de17-5988e1d689a9"
   },
   "outputs": [
    {
     "name": "stdout",
     "output_type": "stream",
     "text": [
      "(1600000, 226)\n",
      "float64\n",
      "(1600000,)\n",
      "int8\n",
      "(359, 226)\n",
      "float64\n",
      "(359,)\n",
      "int8\n",
      "1600000 226 2\n"
     ]
    },
    {
     "data": {
      "text/plain": [
       "<1600000x226 sparse matrix of type '<class 'numpy.float64'>'\n",
       "\twith 3800514 stored elements in Compressed Sparse Row format>"
      ]
     },
     "execution_count": 44,
     "metadata": {},
     "output_type": "execute_result"
    }
   ],
   "source": [
    "# Feature selection\n",
    "# N/A\n",
    "\n",
    "# To sparse matrices\n",
    "x2_rest = x_train_2\n",
    "print(np.shape(x2_rest))\n",
    "print(x2_rest.dtype)\n",
    "\n",
    "y2_rest = y_train_2\n",
    "print(np.shape(y2_rest))\n",
    "print(y2_rest.dtype)\n",
    "\n",
    "x2_test = x_test_2\n",
    "print(np.shape(x2_test))\n",
    "print(x2_test.dtype)\n",
    "\n",
    "y2_test = y_test_2\n",
    "print(np.shape(y2_test))\n",
    "print(y2_test.dtype)\n",
    "\n",
    "# Necessary variables\n",
    "(num_instances, num_features), num_classes = x2_rest.shape, np.max(y2_rest)+1\n",
    "print(num_instances, num_features, num_classes)\n",
    "\n",
    "x2_rest"
   ]
  },
  {
   "cell_type": "markdown",
   "metadata": {
    "id": "6IxDBRm7Uoud"
   },
   "source": [
    "### Training with Cross-Validation"
   ]
  },
  {
   "cell_type": "code",
   "execution_count": 45,
   "metadata": {
    "colab": {
     "base_uri": "https://localhost:8080/"
    },
    "id": "vgPELNBVKWSs",
    "outputId": "205ef590-2e66-4afb-f167-614dd021659a"
   },
   "outputs": [
    {
     "name": "stdout",
     "output_type": "stream",
     "text": [
      "(1280000, 226) (1280000,) (319999, 226)\n"
     ]
    },
    {
     "name": "stderr",
     "output_type": "stream",
     "text": [
      "C:\\Users\\vrajp\\AppData\\Local\\Temp/ipykernel_18868/3765247045.py:23: RuntimeWarning: invalid value encountered in sqrt\n",
      "  sigma[c,:] = np.sqrt(sum_sqr - Nc[c] * np.square(sum))  #std of features of class c\n"
     ]
    },
    {
     "name": "stdout",
     "output_type": "stream",
     "text": [
      "(1279999, 226) (1279999,) (319999, 226)\n"
     ]
    },
    {
     "ename": "KeyboardInterrupt",
     "evalue": "",
     "output_type": "error",
     "traceback": [
      "\u001b[1;31m---------------------------------------------------------------------------\u001b[0m",
      "\u001b[1;31mKeyboardInterrupt\u001b[0m                         Traceback (most recent call last)",
      "\u001b[1;32m~\\AppData\\Local\\Temp/ipykernel_18868/1447590656.py\u001b[0m in \u001b[0;36m<module>\u001b[1;34m\u001b[0m\n\u001b[0;32m     25\u001b[0m     \u001b[0mprint\u001b[0m\u001b[1;33m(\u001b[0m\u001b[0mx_train\u001b[0m\u001b[1;33m.\u001b[0m\u001b[0mshape\u001b[0m\u001b[1;33m,\u001b[0m \u001b[0my_train\u001b[0m\u001b[1;33m.\u001b[0m\u001b[0mshape\u001b[0m\u001b[1;33m,\u001b[0m \u001b[0mx_val\u001b[0m\u001b[1;33m.\u001b[0m\u001b[0mshape\u001b[0m\u001b[1;33m)\u001b[0m\u001b[1;33m\u001b[0m\u001b[1;33m\u001b[0m\u001b[0m\n\u001b[0;32m     26\u001b[0m     \u001b[0mmodel\u001b[0m \u001b[1;33m=\u001b[0m \u001b[0mGaussianNaiveBayes\u001b[0m\u001b[1;33m(\u001b[0m\u001b[1;33m)\u001b[0m\u001b[1;33m\u001b[0m\u001b[1;33m\u001b[0m\u001b[0m\n\u001b[1;32m---> 27\u001b[1;33m     \u001b[0mmodel\u001b[0m\u001b[1;33m.\u001b[0m\u001b[0mfit\u001b[0m\u001b[1;33m(\u001b[0m\u001b[0mx_train\u001b[0m\u001b[1;33m,\u001b[0m \u001b[0my_train\u001b[0m\u001b[1;33m)\u001b[0m\u001b[1;33m\u001b[0m\u001b[1;33m\u001b[0m\u001b[0m\n\u001b[0m\u001b[0;32m     28\u001b[0m     \u001b[0my_prob\u001b[0m \u001b[1;33m=\u001b[0m \u001b[0mmodel\u001b[0m\u001b[1;33m.\u001b[0m\u001b[0mpredict\u001b[0m\u001b[1;33m(\u001b[0m\u001b[0mx_val\u001b[0m\u001b[1;33m)\u001b[0m\u001b[1;33m\u001b[0m\u001b[1;33m\u001b[0m\u001b[0m\n\u001b[0;32m     29\u001b[0m     \u001b[0my_pred\u001b[0m \u001b[1;33m=\u001b[0m \u001b[0mnp\u001b[0m\u001b[1;33m.\u001b[0m\u001b[0margmax\u001b[0m\u001b[1;33m(\u001b[0m\u001b[0my_prob\u001b[0m\u001b[1;33m,\u001b[0m \u001b[0maxis\u001b[0m\u001b[1;33m=\u001b[0m\u001b[1;36m1\u001b[0m\u001b[1;33m)\u001b[0m\u001b[1;33m\u001b[0m\u001b[1;33m\u001b[0m\u001b[0m\n",
      "\u001b[1;32m~\\AppData\\Local\\Temp/ipykernel_18868/3765247045.py\u001b[0m in \u001b[0;36mfit\u001b[1;34m(self, x, y)\u001b[0m\n\u001b[0;32m     19\u001b[0m                     \u001b[0mNc\u001b[0m\u001b[1;33m[\u001b[0m\u001b[0mc\u001b[0m\u001b[1;33m]\u001b[0m \u001b[1;33m+=\u001b[0m \u001b[1;36m1\u001b[0m                        \u001b[1;31m#get number of elements of class c\u001b[0m\u001b[1;33m\u001b[0m\u001b[1;33m\u001b[0m\u001b[0m\n\u001b[0;32m     20\u001b[0m                     \u001b[0msum\u001b[0m \u001b[1;33m=\u001b[0m \u001b[0msum\u001b[0m \u001b[1;33m+\u001b[0m \u001b[0mx\u001b[0m\u001b[1;33m[\u001b[0m\u001b[0mi\u001b[0m\u001b[1;33m,\u001b[0m\u001b[1;33m:\u001b[0m\u001b[1;33m]\u001b[0m\u001b[1;33m\u001b[0m\u001b[1;33m\u001b[0m\u001b[0m\n\u001b[1;32m---> 21\u001b[1;33m                     \u001b[0msum_sqr\u001b[0m \u001b[1;33m=\u001b[0m \u001b[0msum_sqr\u001b[0m \u001b[1;33m+\u001b[0m \u001b[0mx\u001b[0m\u001b[1;33m[\u001b[0m\u001b[0mi\u001b[0m\u001b[1;33m,\u001b[0m\u001b[1;33m:\u001b[0m\u001b[1;33m]\u001b[0m\u001b[1;33m.\u001b[0m\u001b[0mmultiply\u001b[0m\u001b[1;33m(\u001b[0m\u001b[0mx\u001b[0m\u001b[1;33m[\u001b[0m\u001b[0mi\u001b[0m\u001b[1;33m,\u001b[0m\u001b[1;33m:\u001b[0m\u001b[1;33m]\u001b[0m\u001b[1;33m)\u001b[0m\u001b[1;33m\u001b[0m\u001b[1;33m\u001b[0m\u001b[0m\n\u001b[0m\u001b[0;32m     22\u001b[0m             \u001b[0mmu\u001b[0m\u001b[1;33m[\u001b[0m\u001b[0mc\u001b[0m\u001b[1;33m,\u001b[0m\u001b[1;33m:\u001b[0m\u001b[1;33m]\u001b[0m \u001b[1;33m=\u001b[0m \u001b[0msum\u001b[0m\u001b[1;33m/\u001b[0m\u001b[0mNc\u001b[0m\u001b[1;33m[\u001b[0m\u001b[0mc\u001b[0m\u001b[1;33m]\u001b[0m                       \u001b[1;31m#mean of features of class c\u001b[0m\u001b[1;33m\u001b[0m\u001b[1;33m\u001b[0m\u001b[0m\n\u001b[0;32m     23\u001b[0m             \u001b[0msigma\u001b[0m\u001b[1;33m[\u001b[0m\u001b[0mc\u001b[0m\u001b[1;33m,\u001b[0m\u001b[1;33m:\u001b[0m\u001b[1;33m]\u001b[0m \u001b[1;33m=\u001b[0m \u001b[0mnp\u001b[0m\u001b[1;33m.\u001b[0m\u001b[0msqrt\u001b[0m\u001b[1;33m(\u001b[0m\u001b[0msum_sqr\u001b[0m \u001b[1;33m-\u001b[0m \u001b[0mNc\u001b[0m\u001b[1;33m[\u001b[0m\u001b[0mc\u001b[0m\u001b[1;33m]\u001b[0m \u001b[1;33m*\u001b[0m \u001b[0mnp\u001b[0m\u001b[1;33m.\u001b[0m\u001b[0msquare\u001b[0m\u001b[1;33m(\u001b[0m\u001b[0msum\u001b[0m\u001b[1;33m)\u001b[0m\u001b[1;33m)\u001b[0m  \u001b[1;31m#std of features of class c\u001b[0m\u001b[1;33m\u001b[0m\u001b[1;33m\u001b[0m\u001b[0m\n",
      "\u001b[1;32m~\\anaconda3\\lib\\site-packages\\scipy\\sparse\\base.py\u001b[0m in \u001b[0;36m__radd__\u001b[1;34m(self, other)\u001b[0m\n\u001b[0;32m    421\u001b[0m \u001b[1;33m\u001b[0m\u001b[0m\n\u001b[0;32m    422\u001b[0m     \u001b[1;32mdef\u001b[0m \u001b[0m__radd__\u001b[0m\u001b[1;33m(\u001b[0m\u001b[0mself\u001b[0m\u001b[1;33m,\u001b[0m\u001b[0mother\u001b[0m\u001b[1;33m)\u001b[0m\u001b[1;33m:\u001b[0m  \u001b[1;31m# other + self\u001b[0m\u001b[1;33m\u001b[0m\u001b[1;33m\u001b[0m\u001b[0m\n\u001b[1;32m--> 423\u001b[1;33m         \u001b[1;32mreturn\u001b[0m \u001b[0mself\u001b[0m\u001b[1;33m.\u001b[0m\u001b[0m__add__\u001b[0m\u001b[1;33m(\u001b[0m\u001b[0mother\u001b[0m\u001b[1;33m)\u001b[0m\u001b[1;33m\u001b[0m\u001b[1;33m\u001b[0m\u001b[0m\n\u001b[0m\u001b[0;32m    424\u001b[0m \u001b[1;33m\u001b[0m\u001b[0m\n\u001b[0;32m    425\u001b[0m     \u001b[1;32mdef\u001b[0m \u001b[0m__sub__\u001b[0m\u001b[1;33m(\u001b[0m\u001b[0mself\u001b[0m\u001b[1;33m,\u001b[0m \u001b[0mother\u001b[0m\u001b[1;33m)\u001b[0m\u001b[1;33m:\u001b[0m  \u001b[1;31m# self - other\u001b[0m\u001b[1;33m\u001b[0m\u001b[1;33m\u001b[0m\u001b[0m\n",
      "\u001b[1;32m~\\anaconda3\\lib\\site-packages\\scipy\\sparse\\base.py\u001b[0m in \u001b[0;36m__add__\u001b[1;34m(self, other)\u001b[0m\n\u001b[0;32m    416\u001b[0m         \u001b[1;32melif\u001b[0m \u001b[0misdense\u001b[0m\u001b[1;33m(\u001b[0m\u001b[0mother\u001b[0m\u001b[1;33m)\u001b[0m\u001b[1;33m:\u001b[0m\u001b[1;33m\u001b[0m\u001b[1;33m\u001b[0m\u001b[0m\n\u001b[0;32m    417\u001b[0m             \u001b[0mother\u001b[0m \u001b[1;33m=\u001b[0m \u001b[0mnp\u001b[0m\u001b[1;33m.\u001b[0m\u001b[0mbroadcast_to\u001b[0m\u001b[1;33m(\u001b[0m\u001b[0mother\u001b[0m\u001b[1;33m,\u001b[0m \u001b[0mself\u001b[0m\u001b[1;33m.\u001b[0m\u001b[0mshape\u001b[0m\u001b[1;33m)\u001b[0m\u001b[1;33m\u001b[0m\u001b[1;33m\u001b[0m\u001b[0m\n\u001b[1;32m--> 418\u001b[1;33m             \u001b[1;32mreturn\u001b[0m \u001b[0mself\u001b[0m\u001b[1;33m.\u001b[0m\u001b[0m_add_dense\u001b[0m\u001b[1;33m(\u001b[0m\u001b[0mother\u001b[0m\u001b[1;33m)\u001b[0m\u001b[1;33m\u001b[0m\u001b[1;33m\u001b[0m\u001b[0m\n\u001b[0m\u001b[0;32m    419\u001b[0m         \u001b[1;32melse\u001b[0m\u001b[1;33m:\u001b[0m\u001b[1;33m\u001b[0m\u001b[1;33m\u001b[0m\u001b[0m\n\u001b[0;32m    420\u001b[0m             \u001b[1;32mreturn\u001b[0m \u001b[0mNotImplemented\u001b[0m\u001b[1;33m\u001b[0m\u001b[1;33m\u001b[0m\u001b[0m\n",
      "\u001b[1;32m~\\anaconda3\\lib\\site-packages\\scipy\\sparse\\compressed.py\u001b[0m in \u001b[0;36m_add_dense\u001b[1;34m(self, other)\u001b[0m\n\u001b[0;32m    354\u001b[0m         \u001b[0mM\u001b[0m\u001b[1;33m,\u001b[0m \u001b[0mN\u001b[0m \u001b[1;33m=\u001b[0m \u001b[0mself\u001b[0m\u001b[1;33m.\u001b[0m\u001b[0m_swap\u001b[0m\u001b[1;33m(\u001b[0m\u001b[0mself\u001b[0m\u001b[1;33m.\u001b[0m\u001b[0mshape\u001b[0m\u001b[1;33m)\u001b[0m\u001b[1;33m\u001b[0m\u001b[1;33m\u001b[0m\u001b[0m\n\u001b[0;32m    355\u001b[0m         \u001b[0my\u001b[0m \u001b[1;33m=\u001b[0m \u001b[0mresult\u001b[0m \u001b[1;32mif\u001b[0m \u001b[0mresult\u001b[0m\u001b[1;33m.\u001b[0m\u001b[0mflags\u001b[0m\u001b[1;33m.\u001b[0m\u001b[0mc_contiguous\u001b[0m \u001b[1;32melse\u001b[0m \u001b[0mresult\u001b[0m\u001b[1;33m.\u001b[0m\u001b[0mT\u001b[0m\u001b[1;33m\u001b[0m\u001b[1;33m\u001b[0m\u001b[0m\n\u001b[1;32m--> 356\u001b[1;33m         \u001b[0mcsr_todense\u001b[0m\u001b[1;33m(\u001b[0m\u001b[0mM\u001b[0m\u001b[1;33m,\u001b[0m \u001b[0mN\u001b[0m\u001b[1;33m,\u001b[0m \u001b[0mself\u001b[0m\u001b[1;33m.\u001b[0m\u001b[0mindptr\u001b[0m\u001b[1;33m,\u001b[0m \u001b[0mself\u001b[0m\u001b[1;33m.\u001b[0m\u001b[0mindices\u001b[0m\u001b[1;33m,\u001b[0m \u001b[0mself\u001b[0m\u001b[1;33m.\u001b[0m\u001b[0mdata\u001b[0m\u001b[1;33m,\u001b[0m \u001b[0my\u001b[0m\u001b[1;33m)\u001b[0m\u001b[1;33m\u001b[0m\u001b[1;33m\u001b[0m\u001b[0m\n\u001b[0m\u001b[0;32m    357\u001b[0m         \u001b[1;32mreturn\u001b[0m \u001b[0mmatrix\u001b[0m\u001b[1;33m(\u001b[0m\u001b[0mresult\u001b[0m\u001b[1;33m,\u001b[0m \u001b[0mcopy\u001b[0m\u001b[1;33m=\u001b[0m\u001b[1;32mFalse\u001b[0m\u001b[1;33m)\u001b[0m\u001b[1;33m\u001b[0m\u001b[1;33m\u001b[0m\u001b[0m\n\u001b[0;32m    358\u001b[0m \u001b[1;33m\u001b[0m\u001b[0m\n",
      "\u001b[1;31mKeyboardInterrupt\u001b[0m: "
     ]
    }
   ],
   "source": [
    "# Test data is already set aside, nothing to do here\n",
    "\n",
    "# Rest for training and validation\n",
    "n_rest = num_instances\n",
    "\n",
    "# K-fold cross-validation\n",
    "num_folds = 5\n",
    "\n",
    "# Initialize arrays\n",
    "# No hyperparameters in Naive Bayes\n",
    "acc_valid = np.zeros(num_folds)\n",
    "\n",
    "# Run Gaussian Naive Bayes\n",
    "# cross-validation just for better accuracy prediction\n",
    "for f, (val_start, val_end) in enumerate(cross_validation_split(n_rest, num_folds)):\n",
    "    #print(np.shape(f), np.shape(val_start), np.shape(val_end))\n",
    "    x_val = x2_rest[val_start:val_end,:]\n",
    "    y_val = y2_rest[val_start:val_end]\n",
    "    if f == 0:\n",
    "        x_train = x2_rest[val_end+1:,:]\n",
    "        y_train = y2_rest[val_end+1:]\n",
    "    else:\n",
    "        x_train = sparse.vstack([x2_rest[0:val_start-1,:],x2_rest[val_end+1:,:]])\n",
    "        y_train = np.concatenate((y2_rest[0:val_start-1],y2_rest[val_end+1:]),axis=0)\n",
    "    print(x_train.shape, y_train.shape, x_val.shape)\n",
    "    model = GaussianNaiveBayes()\n",
    "    model.fit(x_train, y_train)\n",
    "    y_prob = model.predict(x_val)\n",
    "    y_pred = np.argmax(y_prob, axis=1)\n",
    "    acc_valid[f] = evaluate_acc(y_val, y_pred)\n",
    "acc_valid_avg = np.mean(acc_valid)\n",
    "\n",
    "# find training accuracy\n",
    "model = GaussianNaiveBayes()\n",
    "model.fit(x2_rest, y2_rest)\n",
    "y_prob = model.predict(x2_rest)\n",
    "y_pred = np.argmax(y_prob, axis=1)\n",
    "acc_train = evaluate_acc(y2_rest, y_pred)\n",
    "\n",
    "# find test accuracy\n",
    "#model = GaussianNaiveBayes()\n",
    "#model.fit(x1_rest, y1_rest)\n",
    "y_prob = model.predict(x2_test)\n",
    "y_pred = np.argmax(y_prob, axis=1)\n",
    "acc_test = evaluate_acc(y2_test, y_pred)"
   ]
  },
  {
   "cell_type": "code",
   "execution_count": null,
   "metadata": {
    "id": "4k2jLEaUKWSt"
   },
   "outputs": [],
   "source": [
    "#### Prediction and Acccuracy Calculation\n",
    "print(f'Training accuracy: {acc_train:.3}%.')\n",
    "print(f'Average validation accuracy: {acc_valid_avg:.3}%.')\n",
    "print(f'Estimated generalization (test) accuracy: {acc_test:.3}%.')"
   ]
  },
  {
   "cell_type": "markdown",
   "metadata": {
    "id": "8TNiX_rwVdvM"
   },
   "source": [
    "### Visualizations"
   ]
  },
  {
   "cell_type": "code",
   "execution_count": null,
   "metadata": {
    "id": "hg7LvV1YKWSt"
   },
   "outputs": [],
   "source": []
  },
  {
   "cell_type": "markdown",
   "metadata": {
    "id": "rJnqfNGRWBXt"
   },
   "source": [
    "# Logistic Regression"
   ]
  },
  {
   "cell_type": "markdown",
   "metadata": {
    "id": "nVgRO0HtWBwH"
   },
   "source": [
    "#### Implementing the model"
   ]
  },
  {
   "cell_type": "code",
   "execution_count": 61,
   "metadata": {
    "scrolled": true
   },
   "outputs": [
    {
     "name": "stdout",
     "output_type": "stream",
     "text": [
      "(1600000, 226)\n",
      "(359, 226)\n",
      "(1600000, 1)\n",
      "(359, 1)\n"
     ]
    }
   ],
   "source": [
    "print(x_train_2.shape)\n",
    "y_train_2 = np.array(y_train_2, ndmin=2).T\n",
    "y_test_2 = np.array(y_test_2, ndmin=2).T\n",
    "print(x_test_2.shape)\n",
    "print(y_train_2.shape)\n",
    "print(y_test_2.shape)\n",
    "X_test_2 = x_test_2\n",
    "Y_test_2 = y_test_2"
   ]
  },
  {
   "cell_type": "code",
   "execution_count": 63,
   "metadata": {},
   "outputs": [
    {
     "name": "stdout",
     "output_type": "stream",
     "text": [
      "(320000, 226)\n",
      "(320000, 1)\n"
     ]
    },
    {
     "name": "stderr",
     "output_type": "stream",
     "text": [
      "C:\\Users\\vrajp\\anaconda3\\lib\\site-packages\\sklearn\\utils\\validation.py:993: DataConversionWarning: A column-vector y was passed when a 1d array was expected. Please change the shape of y to (n_samples, ), for example using ravel().\n",
      "  y = column_or_1d(y, warn=True)\n"
     ]
    },
    {
     "name": "stdout",
     "output_type": "stream",
     "text": [
      "Regression score for fraction : 0.2 is: [0.68504688]\n",
      "Accuracy of model for fraction : 0.2 is: [0.69359331]\n",
      "(640000, 226)\n",
      "(640000, 1)\n"
     ]
    },
    {
     "name": "stderr",
     "output_type": "stream",
     "text": [
      "C:\\Users\\vrajp\\anaconda3\\lib\\site-packages\\sklearn\\utils\\validation.py:993: DataConversionWarning: A column-vector y was passed when a 1d array was expected. Please change the shape of y to (n_samples, ), for example using ravel().\n",
      "  y = column_or_1d(y, warn=True)\n"
     ]
    },
    {
     "name": "stdout",
     "output_type": "stream",
     "text": [
      "Regression score for fraction : 0.4 is: [0.68394219]\n",
      "Accuracy of model for fraction : 0.4 is: [0.6908078]\n",
      "(960000, 226)\n",
      "(960000, 1)\n"
     ]
    },
    {
     "name": "stderr",
     "output_type": "stream",
     "text": [
      "C:\\Users\\vrajp\\anaconda3\\lib\\site-packages\\sklearn\\utils\\validation.py:993: DataConversionWarning: A column-vector y was passed when a 1d array was expected. Please change the shape of y to (n_samples, ), for example using ravel().\n",
      "  y = column_or_1d(y, warn=True)\n"
     ]
    },
    {
     "name": "stdout",
     "output_type": "stream",
     "text": [
      "Regression score for fraction : 0.6 is: [0.6835875]\n",
      "Accuracy of model for fraction : 0.6 is: [0.6908078]\n",
      "(1280000, 226)\n",
      "(1280000, 1)\n"
     ]
    },
    {
     "name": "stderr",
     "output_type": "stream",
     "text": [
      "C:\\Users\\vrajp\\anaconda3\\lib\\site-packages\\sklearn\\utils\\validation.py:993: DataConversionWarning: A column-vector y was passed when a 1d array was expected. Please change the shape of y to (n_samples, ), for example using ravel().\n",
      "  y = column_or_1d(y, warn=True)\n"
     ]
    },
    {
     "name": "stdout",
     "output_type": "stream",
     "text": [
      "Regression score for fraction : 0.8 is: [0.68392578]\n",
      "Accuracy of model for fraction : 0.8 is: [0.6908078]\n"
     ]
    }
   ],
   "source": [
    "score = np.zeros((4,1))\n",
    "accu_LG = np.zeros((4,1))\n",
    "for i  in range(4):\n",
    "    x_train, x_test, y_train, y_test = train_test_split(x_train_2, y_train_2, train_size=((i+1)*0.2), random_state=42) \n",
    "    print(x_train.shape)\n",
    "    print(y_train.shape)\n",
    "    LogReg = LogisticRegressionCV(multi_class='ovr', max_iter= 100,cv=5,solver=\"lbfgs\")\n",
    "    LogReg.fit(x_train,y_train)\n",
    "    model_weights = LogReg.coef_\n",
    "    model_interecept_ = LogReg.intercept_\n",
    "    score[i] = LogReg.score(x_train,y_train)\n",
    "    print(f'Regression score for fraction : {(i+1)*0.2:.3} is: {score[i]:}')\n",
    "    y_pred_LG = LogReg.predict(X_test_2)\n",
    "    accu_LG[i] = accuracy_score(Y_test_2,y_pred_LG)\n",
    "    print(f'Accuracy of model for fraction : {(i+1)*0.2:.3} is: {accu_LG[i]:}')"
   ]
  },
  {
   "cell_type": "code",
   "execution_count": 64,
   "metadata": {},
   "outputs": [
    {
     "name": "stderr",
     "output_type": "stream",
     "text": [
      "C:\\Users\\vrajp\\anaconda3\\lib\\site-packages\\sklearn\\utils\\validation.py:993: DataConversionWarning: A column-vector y was passed when a 1d array was expected. Please change the shape of y to (n_samples, ), for example using ravel().\n",
      "  y = column_or_1d(y, warn=True)\n"
     ]
    },
    {
     "name": "stdout",
     "output_type": "stream",
     "text": [
      "Regression score for whole train data is : 0.683886875 \n"
     ]
    }
   ],
   "source": [
    "LogReg = LogisticRegressionCV(multi_class='ovr', max_iter= 100,cv=5,solver=\"lbfgs\")\n",
    "LogReg.fit(x_train_2,y_train_2)\n",
    "model_weights = LogReg.coef_\n",
    "model_interecept_ = LogReg.intercept_\n",
    "score_100 = LogReg.score(x_train_2,y_train_2)\n",
    "print(f'Regression score for whole train data is : {score_100:} ')"
   ]
  },
  {
   "cell_type": "code",
   "execution_count": 66,
   "metadata": {},
   "outputs": [
    {
     "name": "stdout",
     "output_type": "stream",
     "text": [
      "accuracy of model for whole train data is: 0.691\n"
     ]
    }
   ],
   "source": [
    "y_pred_LG_100 = LogReg.predict(x_test_2)\n",
    "accu_LG_100 = accuracy_score(y_test_2,y_pred_LG)\n",
    "print((f'accuracy of model for whole train data is: {accu_LG_100:.3}'))"
   ]
  },
  {
   "cell_type": "code",
   "execution_count": null,
   "metadata": {},
   "outputs": [],
   "source": []
  }
 ],
 "metadata": {
  "accelerator": "TPU",
  "colab": {
   "collapsed_sections": [],
   "machine_shape": "hm",
   "name": "Dataset_2_complete.ipynb",
   "provenance": [],
   "toc_visible": true
  },
  "kernelspec": {
   "display_name": "Python 3 (ipykernel)",
   "language": "python",
   "name": "python3"
  },
  "language_info": {
   "codemirror_mode": {
    "name": "ipython",
    "version": 3
   },
   "file_extension": ".py",
   "mimetype": "text/x-python",
   "name": "python",
   "nbconvert_exporter": "python",
   "pygments_lexer": "ipython3",
   "version": "3.9.7"
  }
 },
 "nbformat": 4,
 "nbformat_minor": 1
}
