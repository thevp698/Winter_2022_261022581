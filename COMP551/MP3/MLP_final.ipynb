{
 "cells": [
  {
   "cell_type": "code",
   "execution_count": 1,
   "metadata": {
    "id": "hccQD11GPFOU"
   },
   "outputs": [],
   "source": [
    "import numpy as np\n",
    "#%matplotlib notebook\n",
    "%matplotlib inline\n",
    "import matplotlib.pyplot as plt\n",
    "from IPython.core.debugger import set_trace\n",
    "import warnings\n",
    "warnings.filterwarnings('ignore')\n",
    "\n",
    "import tensorflow as tf\n",
    "\n",
    "import copy"
   ]
  },
  {
   "cell_type": "markdown",
   "metadata": {
    "id": "HgoTcxTRLJCM"
   },
   "source": [
    "# Prepare Data"
   ]
  },
  {
   "cell_type": "code",
   "execution_count": 2,
   "metadata": {
    "id": "hzqKbjolRfCq"
   },
   "outputs": [],
   "source": [
    "(x_train, y_train), (x_test, y_test) = tf.keras.datasets.fashion_mnist.load_data()"
   ]
  },
  {
   "cell_type": "code",
   "execution_count": 3,
   "metadata": {
    "id": "pIuiYt08LAs7"
   },
   "outputs": [
    {
     "name": "stdout",
     "output_type": "stream",
     "text": [
      "(60000, 28, 28)\n",
      "10\n"
     ]
    }
   ],
   "source": [
    "print(x_train.shape)\n",
    "\n",
    "C = np.max(y_train)+1\n",
    "print(C)"
   ]
  },
  {
   "cell_type": "code",
   "execution_count": 4,
   "metadata": {
    "id": "WrKrbLBzk-uj"
   },
   "outputs": [],
   "source": [
    "# normalize images to [0, 1]\n",
    "x_train_unnorm = x_train\n",
    "x_test_unnorm = x_test\n",
    "\n",
    "x_all = np.concatenate((x_train, x_test), axis=0)\n",
    "x_train = x_train / np.amax(x_all)\n",
    "x_test = x_test / np.amax(x_all)"
   ]
  },
  {
   "cell_type": "code",
   "execution_count": 5,
   "metadata": {
    "id": "b-tlnVulq22N"
   },
   "outputs": [
    {
     "name": "stdout",
     "output_type": "stream",
     "text": [
      "(60000, 784)\n"
     ]
    }
   ],
   "source": [
    "# flatten\n",
    "x_train = x_train.reshape(x_train.shape[0], x_train.shape[1]*x_train.shape[2])\n",
    "x_test = x_test.reshape(x_test.shape[0], x_test.shape[1]*x_test.shape[2])\n",
    "\n",
    "x_train_unnorm = x_train_unnorm.reshape(x_train_unnorm.shape[0], x_train_unnorm.shape[1]*x_train_unnorm.shape[2])\n",
    "x_test_unnorm = x_test_unnorm.reshape(x_test_unnorm.shape[0], x_test_unnorm.shape[1]*x_test_unnorm.shape[2])\n",
    "\n",
    "print(x_train.shape)"
   ]
  },
  {
   "cell_type": "code",
   "execution_count": 6,
   "metadata": {
    "id": "IZRezIBP2L8F"
   },
   "outputs": [
    {
     "name": "stdout",
     "output_type": "stream",
     "text": [
      "(60000, 785)\n"
     ]
    }
   ],
   "source": [
    "# add bias\n",
    "x_train = np.c_[x_train, np.ones(x_train.shape[0])]\n",
    "x_test = np.c_[x_test, np.ones(x_test.shape[0])]\n",
    "\n",
    "x_train_unnorm = np.c_[x_train_unnorm, np.ones(x_train_unnorm.shape[0])]\n",
    "x_test_unnorm = np.c_[x_test_unnorm, np.ones(x_test_unnorm.shape[0])]\n",
    "\n",
    "print(x_train.shape)"
   ]
  },
  {
   "cell_type": "markdown",
   "metadata": {
    "id": "t9Rzg2uFLsQ9"
   },
   "source": [
    "# Function and Class Definitions"
   ]
  },
  {
   "cell_type": "markdown",
   "metadata": {
    "id": "Nuw5V180MAvF"
   },
   "source": [
    "## Accuracy / Error Function"
   ]
  },
  {
   "cell_type": "code",
   "execution_count": 7,
   "metadata": {
    "id": "IMi_eamSLsrw"
   },
   "outputs": [],
   "source": [
    "# Calculate accuracy\n",
    "evaluate_acc = lambda y_test, y_pred: np.sum(y_test == y_pred)/y_test.shape[0]*100\n",
    "evaluate_err = lambda y_test, y_pred: (1-np.sum(y_test == y_pred)/y_test.shape[0])*100"
   ]
  },
  {
   "cell_type": "markdown",
   "metadata": {
    "id": "zomjnX6trVOM"
   },
   "source": [
    "## One-Hot Encoding"
   ]
  },
  {
   "cell_type": "code",
   "execution_count": 8,
   "metadata": {
    "id": "obNyYmy6rUmy"
   },
   "outputs": [],
   "source": [
    "def onehot(y):\n",
    "    N = y.shape[0]\n",
    "    C = np.max(y)+1\n",
    "    yc = np.zeros((N,C))\n",
    "    for i in range(N):\n",
    "        yc[i, y[i]] = 1\n",
    "    return yc.astype(int)\n",
    "\n",
    "def decode(yc):\n",
    "    return np.argmax(yc, axis=1)\n"
   ]
  },
  {
   "cell_type": "markdown",
   "metadata": {
    "id": "j2lYuHMYF_8r"
   },
   "source": [
    "## Activation Functions"
   ]
  },
  {
   "cell_type": "code",
   "execution_count": 9,
   "metadata": {
    "id": "5XE0DG5oGA1R"
   },
   "outputs": [],
   "source": [
    "logistic = lambda z: 1./ (1 + np.exp(-z))\n",
    "ReLU = lambda z: np.maximum(0,z)\n",
    "tanh = lambda z: np.tanh(z)\n",
    "leakyReLU = lambda z: np.maximum(0,z) + 0.01 * np.minimum(0,z)\n",
    "\n",
    "# wrapper for running functions passed in as argument\n",
    "def apply(fun, z):\n",
    "    return fun(z)\n",
    "\n",
    "# derivative of ReLU\n",
    "dReLU = lambda z: np.heaviside(z, 0)\n",
    "\n",
    "# derivative of tanh\n",
    "dtanh = lambda z: 1 - np.square(np.tanh(z))\n",
    "\n",
    "# derivative of leakyReLU\n",
    "dleakyReLU = lambda z: np.heaviside(z, 0) + (1 - np.heaviside(z, 1)) * 0.01\n",
    "\n",
    "def softmax(z):\n",
    "    # N x C\n",
    "    z -= np.amax(z, axis=1)[:, None]    # prevent overflow\n",
    "    return np.exp(z) / np.sum(np.exp(z), axis=1)[:, None]\n"
   ]
  },
  {
   "cell_type": "markdown",
   "metadata": {
    "id": "cgQ_JKx5LaGb"
   },
   "source": [
    "# Multi-Layer Perceptron"
   ]
  },
  {
   "cell_type": "markdown",
   "metadata": {
    "id": "6u29QWHEFsZB"
   },
   "source": [
    "## (1) MLP with no hidden layers"
   ]
  },
  {
   "cell_type": "code",
   "execution_count": 10,
   "metadata": {
    "id": "GA0z3bhbPGzR"
   },
   "outputs": [],
   "source": [
    "class MLP_None:\n",
    "    # No hidden layer\n",
    "    \n",
    "    def __init__(self, record_history=False):\n",
    "        # no hidden layers and no activation functions\n",
    "        self.record_history = record_history\n",
    "    \n",
    "    def fit(self, x, y, optimizer):\n",
    "        N,D = x.shape\n",
    "        y = onehot(y)\n",
    "        C = y.shape[1]\n",
    "        def gradient(x, y, params):\n",
    "            # W is C x D\n",
    "            W = params[0]\n",
    "            yh = softmax(np.matmul(x, W.T))         #N x C\n",
    "            # using softmax cross-entropy loss\n",
    "            dy = yh - y                             #N x C\n",
    "            dW = np.matmul(dy.T, x)                 #C x D\n",
    "            dparams = [dW]\n",
    "            return dparams\n",
    "\n",
    "        # initialize weights to random numbers N(0, 1) * .01\n",
    "        W0 = np.random.randn(C,D) * .01\n",
    "        params0 = [W0]\n",
    "        self.params = optimizer.run(gradient, x, y, params0)\n",
    "        return self\n",
    "    \n",
    "    def predict(self, x):\n",
    "        W = self.params[0]\n",
    "        yh = softmax(np.matmul(x, W.T))             #N x C\n",
    "        return decode(yh)                           #N"
   ]
  },
  {
   "cell_type": "markdown",
   "metadata": {
    "id": "vvKITOXFKRlZ"
   },
   "source": [
    "## (2) MLP with one fully connected layer, ReLU"
   ]
  },
  {
   "cell_type": "code",
   "execution_count": 11,
   "metadata": {
    "id": "fhiFyd2MPHKW"
   },
   "outputs": [],
   "source": [
    "class MLP_One_ReLU:\n",
    "    # One hidden layer, ReLU activation function \n",
    "    \n",
    "    def __init__(self, M = 128):\n",
    "        # by default: 128 hidden units\n",
    "        self.M = M\n",
    "            \n",
    "    def fit(self, x, y, optimizer):\n",
    "        N,D = x.shape\n",
    "        y = onehot(y)\n",
    "        C = y.shape[1]\n",
    "        def gradient(x, y, params):\n",
    "            V, W = params\n",
    "            # V is M x D, W is C x M\n",
    "            q = np.matmul(x, V.T)                 #N x M\n",
    "            z = ReLU(q)                           #N x M\n",
    "            yh = softmax(np.matmul(z, W.T))       #N x C\n",
    "            dy = yh - y                           #N x C\n",
    "            dW = np.matmul(dy.T, z)               #C x M\n",
    "            dz = np.matmul(dy, W)                 #N x M\n",
    "            dV = np.matmul((dz * dReLU(q)).T, x)  #M x D\n",
    "            dparams = [dV, dW]\n",
    "            return dparams\n",
    "        \n",
    "        # initialize weights to random numbers N(0, 1) * .01\n",
    "        W0 = np.random.randn(C, self.M) * .01\n",
    "        V0 = np.random.randn(self.M, D) * .01\n",
    "        params0 = [V0, W0]\n",
    "        self.params = optimizer.run(gradient, x, y, params0)\n",
    "        return self\n",
    "    \n",
    "    def predict(self, x):\n",
    "        V, W = self.params\n",
    "        z = ReLU(np.matmul(x, V.T))               #N x M\n",
    "        yh = softmax(np.matmul(z, W.T))           #N x C\n",
    "        return decode(yh)                         #N"
   ]
  },
  {
   "cell_type": "markdown",
   "metadata": {
    "id": "5EIYaR-zKd4G"
   },
   "source": [
    "## (3) MLP with two fully connected layers, ReLU"
   ]
  },
  {
   "cell_type": "code",
   "execution_count": 12,
   "metadata": {
    "id": "q6emArstPKR3"
   },
   "outputs": [],
   "source": [
    "class MLP_Two_ReLU:\n",
    "    # Two hidden layers, ReLU activation function \n",
    "    \n",
    "    def __init__(self, M = 128, O = 128):\n",
    "        # by default: 128 hidden units\n",
    "        self.M = M\n",
    "        self.O = O\n",
    "            \n",
    "    def fit(self, x, y, optimizer):\n",
    "        N,D = x.shape\n",
    "        y = onehot(y)\n",
    "        C = y.shape[1]\n",
    "        def gradient(x, y, params):\n",
    "            U, V, W = params\n",
    "            #  U is M X D, V is O x M, W is C x O\n",
    "            r = np.matmul(x, U.T)                 #N X M\n",
    "            s = ReLU(r)                           #N X M\n",
    "            q = np.matmul(s, V.T)                 #N x O\n",
    "            z = ReLU(q)                           #N x O\n",
    "            yh = softmax(np.matmul(z, W.T))       #N x C\n",
    "            dy = yh - y                           #N x C\n",
    "            dW = np.matmul(dy.T, z)               #C x O\n",
    "            dz = np.matmul(dy, W)                 #N x O\n",
    "            dV = np.matmul((dz * dReLU(q)).T, s)  #O x M\n",
    "            ds = np.matmul(dz, V)                 #N X M\n",
    "            dU = np.matmul((ds * dReLU(r)).T, x)  #M X D\n",
    "            dparams = [dU, dV, dW]\n",
    "            return dparams\n",
    "        \n",
    "        # initialize weights to random numbers N(0, 1) * .01\n",
    "        W0 = np.random.randn(C, self.O) * .01\n",
    "        V0 = np.random.randn(self.O, self.M) * .01\n",
    "        U0 = np.random.randn(self.M, D) * .01\n",
    "        params0 = [U0, V0, W0]\n",
    "        self.params = optimizer.run(gradient, x, y, params0)\n",
    "        return self\n",
    "    \n",
    "    def predict(self, x):\n",
    "        U, V, W = self.params\n",
    "        s = ReLU(np.matmul(x, U.T))               #N X M\n",
    "        z = ReLU(np.matmul(s, V.T))               #N X O\n",
    "        yh = softmax(np.matmul(z, W.T))           #N x C\n",
    "        return decode(yh)                         #N"
   ]
  },
  {
   "cell_type": "markdown",
   "metadata": {
    "id": "if9JP5mzDuQ5"
   },
   "source": [
    "## (4) MLP with two fully connected layers, tanh"
   ]
  },
  {
   "cell_type": "code",
   "execution_count": 13,
   "metadata": {
    "id": "z7TLM9wWDzkV"
   },
   "outputs": [],
   "source": [
    "class MLP_Two_tanh:\n",
    "    # Two hidden layers, tanh activation function \n",
    "    \n",
    "    def __init__(self, M = 128, O = 128):\n",
    "        # by default: 128 hidden units\n",
    "        self.M = M\n",
    "        self.O = O\n",
    "            \n",
    "    def fit(self, x, y, optimizer):\n",
    "        N,D = x.shape\n",
    "        y = onehot(y)\n",
    "        C = y.shape[1]\n",
    "        def gradient(x, y, params):\n",
    "            U, V, W = params\n",
    "            #  U is M X D, V is O x M, W is C x O\n",
    "            r = np.matmul(x, U.T)                 #N X M\n",
    "            s = tanh(r)                           #N X M\n",
    "            q = np.matmul(s, V.T)                 #N x O\n",
    "            z = tanh(q)                           #N x O\n",
    "            yh = softmax(np.matmul(z, W.T))       #N x C\n",
    "            dy = yh - y                           #N x C\n",
    "            dW = np.matmul(dy.T, z)               #C x O\n",
    "            dz = np.matmul(dy, W)                 #N x O\n",
    "            dV = np.matmul((dz * dtanh(q)).T, s)  #O x M\n",
    "            ds = np.matmul(dz, V)                 #N X M\n",
    "            dU = np.matmul((ds * dtanh(r)).T, x)  #M X D\n",
    "            dparams = [dU, dV, dW]\n",
    "            return dparams\n",
    "        \n",
    "        # initialize weights to random numbers N(0, 1) * .01\n",
    "        W0 = np.random.randn(C, self.O) * .01\n",
    "        V0 = np.random.randn(self.O, self.M) * .01\n",
    "        U0 = np.random.randn(self.M, D) * .01\n",
    "        params0 = [U0, V0, W0]\n",
    "        self.params = optimizer.run(gradient, x, y, params0)\n",
    "        return self\n",
    "    \n",
    "    def predict(self, x):\n",
    "        U, V, W = self.params\n",
    "        s = tanh(np.matmul(x, U.T))               #N X M\n",
    "        z = tanh(np.matmul(s, V.T))               #N X O\n",
    "        yh = softmax(np.matmul(z, W.T))           #N x C\n",
    "        return decode(yh)                         #N"
   ]
  },
  {
   "cell_type": "markdown",
   "metadata": {
    "id": "3uUfLHFED0E6"
   },
   "source": [
    "## (5) MLP with two fully connected layers, leaky ReLU"
   ]
  },
  {
   "cell_type": "code",
   "execution_count": 14,
   "metadata": {
    "id": "YUQNfhyeD0cU"
   },
   "outputs": [],
   "source": [
    "class MLP_Two_leakyReLU:\n",
    "    # Two hidden layers, leaky ReLU activation function \n",
    "    \n",
    "    def __init__(self, M = 128, O = 128):\n",
    "        # by default: 128 hidden units\n",
    "        self.M = M\n",
    "        self.O = O\n",
    "            \n",
    "    def fit(self, x, y, optimizer):\n",
    "        N,D = x.shape\n",
    "        y = onehot(y)\n",
    "        C = y.shape[1]\n",
    "        def gradient(x, y, params):\n",
    "            U, V, W = params\n",
    "            #  U is M X D, V is O x M, W is C x O\n",
    "            r = np.matmul(x, U.T)                 #N X M\n",
    "            s = leakyReLU(r)                      #N X M\n",
    "            q = np.matmul(s, V.T)                 #N x O\n",
    "            z = leakyReLU(q)                      #N x O\n",
    "            yh = softmax(np.matmul(z, W.T))       #N x C\n",
    "            dy = yh - y                           #N x C\n",
    "            dW = np.matmul(dy.T, z)               #C x O\n",
    "            dz = np.matmul(dy, W)                 #N x O\n",
    "            dV = np.matmul((dz * dleakyReLU(q)).T, s)  #O x M\n",
    "            ds = np.matmul(dz, V)                      #N X M\n",
    "            dU = np.matmul((ds * dleakyReLU(r)).T, x)  #M X D\n",
    "            dparams = [dU, dV, dW]\n",
    "            return dparams\n",
    "        \n",
    "        # initialize weights to random numbers N(0, 1) * .01\n",
    "        W0 = np.random.randn(C, self.O) * .01\n",
    "        V0 = np.random.randn(self.O, self.M) * .01\n",
    "        U0 = np.random.randn(self.M, D) * .01\n",
    "        params0 = [U0, V0, W0]\n",
    "        self.params = optimizer.run(gradient, x, y, params0)\n",
    "        return self\n",
    "    \n",
    "    def predict(self, x):\n",
    "        U, V, W = self.params\n",
    "        s = leakyReLU(np.matmul(x, U.T))          #N X M\n",
    "        z = leakyReLU(np.matmul(s, V.T))          #N X O\n",
    "        yh = softmax(np.matmul(z, W.T))           #N x C\n",
    "        return decode(yh)                         #N"
   ]
  },
  {
   "cell_type": "markdown",
   "metadata": {
    "id": "eXa9ymj-8-Es"
   },
   "source": [
    "## (6) MLP with two fully connected layers with dropout regularization, ReLU"
   ]
  },
  {
   "cell_type": "code",
   "execution_count": 15,
   "metadata": {
    "id": "SAJG5khl88yi"
   },
   "outputs": [],
   "source": [
    "class MLP_Two_ReLU_Drop:\n",
    "    # Two hidden layers, ReLU activation function, dropout regularization\n",
    "    \n",
    "    def __init__(self, M = 128, O = 128, keep_rate = 0.8):\n",
    "        # by default: 128 hidden units\n",
    "        self.M = M\n",
    "        self.O = O\n",
    "        self.keep_rate = keep_rate\n",
    "            \n",
    "    def fit(self, x, y, optimizer):\n",
    "        N,D = x.shape\n",
    "        y = onehot(y)\n",
    "        C = y.shape[1]\n",
    "        def gradient(x, y, params):     \n",
    "            U, V, W = params\n",
    "            # V is O x M, W is C x O, U is M X D\n",
    "            r = np.matmul(x, U.T)                 #N X M\n",
    "            s = ReLU(r)                           #N X M\n",
    "            dr = np.random.rand(s.shape[0],s.shape[1]) #add dropout in at the first layer.\n",
    "            dr = dr < self.keep_rate\n",
    "            s_d = s * dr\n",
    "            s_d = (s_d)/self.keep_rate\n",
    "            q = np.matmul(s_d, V.T)               #N x O\n",
    "            z = ReLU(q)                           #N x O\n",
    "            yh = softmax(np.matmul(z, W.T))       #N x C\n",
    "            dy = yh - y                           #N x C\n",
    "            dW = np.matmul(dy.T, z)               #C x O\n",
    "            dz = np.matmul(dy, W)                 #N x O\n",
    "            dV = np.matmul((dz * dReLU(q)).T, s_d)  #O x M\n",
    "            ds = np.matmul(dz, V)                 #N X M\n",
    "            dU = np.matmul((ds * dReLU(r)).T, x)  #M X D\n",
    "            dparams = [dU, dV, dW]\n",
    "            return dparams\n",
    "        \n",
    "        # initialize weights to random numbers N(0, 1) * .01\n",
    "        W0 = np.random.randn(C, self.O) * .01\n",
    "        V0 = np.random.randn(self.O, self.M) * .01\n",
    "        U0 = np.random.randn(self.M, D) * .01\n",
    "        params0 = [U0, V0, W0]\n",
    "        self.params = optimizer.run(gradient, x, y, params0)\n",
    "        return self\n",
    "    \n",
    "    def predict(self, x):\n",
    "        U, V, W = self.params\n",
    "        s = ReLU(np.matmul(x, U.T))               #N X M\n",
    "        z = ReLU(np.matmul(s, V.T))               #N X O\n",
    "        yh = softmax(np.matmul(z, W.T))           #N x C\n",
    "        return decode(yh)                         #N"
   ]
  },
  {
   "cell_type": "markdown",
   "metadata": {
    "id": "lJNO5kLBADYI"
   },
   "source": [
    "## (7) MLP with two fully connected layers with dropout regularization, tanh"
   ]
  },
  {
   "cell_type": "code",
   "execution_count": 16,
   "metadata": {
    "id": "A9M-FBhiAHNk"
   },
   "outputs": [],
   "source": [
    "class MLP_Two_tanh_Drop:\n",
    "    # Two hidden layers, tanh activation function, dropout regularization\n",
    "    \n",
    "    def __init__(self, M = 128, O = 128, keep_rate = 0.8):\n",
    "        # by default: 128 hidden units\n",
    "        self.M = M\n",
    "        self.O = O\n",
    "        self.keep_rate = keep_rate\n",
    "            \n",
    "    def fit(self, x, y, optimizer):\n",
    "        N,D = x.shape\n",
    "        y = onehot(y)\n",
    "        C = y.shape[1]\n",
    "        def gradient(x, y, params):     \n",
    "            U, V, W = params\n",
    "            # V is O x M, W is C x O, U is M X D\n",
    "            r = np.matmul(x, U.T)                 #N X M\n",
    "            s = tanh(r)                           #N X M\n",
    "            dr = np.random.rand(s.shape[0],s.shape[1]) #add dropout in at the first layer.\n",
    "            dr = dr < self.keep_rate\n",
    "            s_d = s * dr\n",
    "            s_d = (s_d)/self.keep_rate\n",
    "            q = np.matmul(s_d, V.T)               #N x O\n",
    "            z = tanh(q)                           #N x O\n",
    "            yh = softmax(np.matmul(z, W.T))       #N x C\n",
    "            dy = yh - y                           #N x C\n",
    "            dW = np.matmul(dy.T, z)               #C x O\n",
    "            dz = np.matmul(dy, W)                 #N x O\n",
    "            dV = np.matmul((dz * dtanh(q)).T, s_d)  #O x M\n",
    "            ds = np.matmul(dz, V)                 #N X M\n",
    "            dU = np.matmul((ds * dtanh(r)).T, x)  #M X D\n",
    "            dparams = [dU, dV, dW]\n",
    "            return dparams\n",
    "        \n",
    "        # initialize weights to random numbers N(0, 1) * .01\n",
    "        W0 = np.random.randn(C, self.O) * .01\n",
    "        V0 = np.random.randn(self.O, self.M) * .01\n",
    "        U0 = np.random.randn(self.M, D) * .01\n",
    "        params0 = [U0, V0, W0]\n",
    "        self.params = optimizer.run(gradient, x, y, params0)\n",
    "        return self\n",
    "    \n",
    "    def predict(self, x):\n",
    "        U, V, W = self.params\n",
    "        s = tanh(np.matmul(x, U.T))               #N X M\n",
    "        z = tanh(np.matmul(s, V.T))               #N X O\n",
    "        yh = softmax(np.matmul(z, W.T))           #N x C\n",
    "        return decode(yh)                         #N"
   ]
  },
  {
   "cell_type": "markdown",
   "metadata": {
    "id": "8Re2FLIxBRFu"
   },
   "source": [
    "## (8) MLP with two fully connected layers with dropout regularization, leaky ReLU"
   ]
  },
  {
   "cell_type": "code",
   "execution_count": 17,
   "metadata": {
    "id": "RZwDWSIQBRdC"
   },
   "outputs": [],
   "source": [
    "class MLP_Two_leakyReLU_Drop:\n",
    "    # Two hidden layers, leaky ReLU activation function, dropout regularization\n",
    "    \n",
    "    def __init__(self, M = 128, O = 128, keep_rate = 0.8):\n",
    "        # by default: 128 hidden units\n",
    "        self.M = M\n",
    "        self.O = O\n",
    "        self.keep_rate = keep_rate\n",
    "            \n",
    "    def fit(self, x, y, optimizer):\n",
    "        N,D = x.shape\n",
    "        y = onehot(y)\n",
    "        C = y.shape[1]\n",
    "        def gradient(x, y, params):     \n",
    "            U, V, W = params\n",
    "            # V is O x M, W is C x O, U is M X D\n",
    "            r = np.matmul(x, U.T)                 #N X M\n",
    "            s = leakyReLU(r)                           #N X M\n",
    "            dr = np.random.rand(s.shape[0],s.shape[1]) #add dropout in at the first layer.\n",
    "            dr = dr < self.keep_rate\n",
    "            s_d = s * dr\n",
    "            s_d = (s_d)/self.keep_rate\n",
    "            q = np.matmul(s_d, V.T)               #N x O\n",
    "            z = leakyReLU(q)                           #N x O\n",
    "            yh = softmax(np.matmul(z, W.T))       #N x C\n",
    "            dy = yh - y                           #N x C\n",
    "            dW = np.matmul(dy.T, z)               #C x O\n",
    "            dz = np.matmul(dy, W)                 #N x O\n",
    "            dV = np.matmul((dz * dleakyReLU(q)).T, s_d)  #O x M\n",
    "            ds = np.matmul(dz, V)                 #N X M\n",
    "            dU = np.matmul((ds * dleakyReLU(r)).T, x)  #M X D\n",
    "            dparams = [dU, dV, dW]\n",
    "            return dparams\n",
    "        \n",
    "        # initialize weights to random numbers N(0, 1) * .01\n",
    "        W0 = np.random.randn(C, self.O) * .01\n",
    "        V0 = np.random.randn(self.O, self.M) * .01\n",
    "        U0 = np.random.randn(self.M, D) * .01\n",
    "        params0 = [U0, V0, W0]\n",
    "        self.params = optimizer.run(gradient, x, y, params0)\n",
    "        return self\n",
    "    \n",
    "    def predict(self, x):\n",
    "        U, V, W = self.params\n",
    "        s = leakyReLU(np.matmul(x, U.T))               #N X M\n",
    "        z = leakyReLU(np.matmul(s, V.T))               #N X O\n",
    "        yh = softmax(np.matmul(z, W.T))           #N x C\n",
    "        return decode(yh)                         #N"
   ]
  },
  {
   "cell_type": "markdown",
   "metadata": {
    "id": "Jo3IEYw7GBDS"
   },
   "source": [
    "# Gradient Descent Implementation"
   ]
  },
  {
   "cell_type": "markdown",
   "metadata": {
    "id": "4E_InmD75ox_"
   },
   "source": [
    "## Full Batch"
   ]
  },
  {
   "cell_type": "code",
   "execution_count": 18,
   "metadata": {
    "id": "IS_-3zIjCbIi"
   },
   "outputs": [],
   "source": [
    "class GradientDescent:\n",
    "    \n",
    "    def __init__(self, learning_rate=.001, max_iters=1e4, epsilon=1e-8):\n",
    "        self.learning_rate = learning_rate\n",
    "        self.max_iters = max_iters\n",
    "        self.epsilon = epsilon\n",
    "        \n",
    "    def run(self, gradient_fn, x, y, params):\n",
    "        norms = np.array([np.inf])\n",
    "        t = 1\n",
    "        while np.any(norms > self.epsilon) and t < self.max_iters:\n",
    "            grad = gradient_fn(x, y, params)\n",
    "            for p in range(len(params)):\n",
    "                params[p] -= self.learning_rate * grad[p]\n",
    "            t += 1\n",
    "            norms = np.array([np.linalg.norm(g) for g in grad])\n",
    "        if t == self.max_iters:\n",
    "            print(\"Did not converge at maximum iteration.\")\n",
    "            print(\"norms =\", norms)\n",
    "        return params"
   ]
  },
  {
   "cell_type": "markdown",
   "metadata": {
    "id": "WWnVe3Jl5uS4"
   },
   "source": [
    "## Mini Batch"
   ]
  },
  {
   "cell_type": "code",
   "execution_count": 19,
   "metadata": {
    "id": "WrA5OWWlO9oy"
   },
   "outputs": [],
   "source": [
    "class MiniBatchGradientDescent:\n",
    "\n",
    "    def __init__(self, learning_rate=.001, max_iters=1e4, epsilon=1e-8, batch_size=32):\n",
    "        self.learning_rate = learning_rate\n",
    "        self.max_iters = max_iters\n",
    "        self.epsilon = epsilon\n",
    "        self.batch_size = batch_size\n",
    "\n",
    "    def run(self, gradient_fn, x, y, params):\n",
    "        N = x.shape[0]\n",
    "        if self.batch_size > N:   #in this case mini batch becomes full batch\n",
    "            self.batch_size = N\n",
    "        num_batches = N // self.batch_size\n",
    "\n",
    "        norms = np.array([np.inf])\n",
    "        t = 1\n",
    "        while np.any(norms > self.epsilon) and t < self.max_iters:\n",
    "            rate = self.learning_rate * (t ** (-0.51))    # decaying learning rate\n",
    "            random_indices = np.random.permutation(N)\n",
    "            x_tmp = x[random_indices]\n",
    "            y_tmp = y[random_indices]\n",
    "            for j in range(0, N, self.batch_size):\n",
    "                xj = x_tmp[j:j+self.batch_size]\n",
    "                yj = y_tmp[j:j+self.batch_size]\n",
    "                grad = gradient_fn(xj, yj, params)\n",
    "                for p in range(len(params)):\n",
    "                    params[p] -= rate * grad[p]\n",
    "            t += 1\n",
    "            norms = np.array([np.linalg.norm(g) for g in grad])\n",
    "        if t == self.max_iters:\n",
    "            print(\"Did not converge at maximum iteration.\")\n",
    "            print(\"norms =\", norms)\n",
    "        return params\n"
   ]
  },
  {
   "cell_type": "markdown",
   "metadata": {
    "id": "9cHz4twY5wsJ"
   },
   "source": [
    "## Mini Batch with Adam"
   ]
  },
  {
   "cell_type": "code",
   "execution_count": 20,
   "metadata": {
    "id": "5dfKex6s6ftN"
   },
   "outputs": [],
   "source": [
    "class AdamMiniBatchGradientDescent:\n",
    "\n",
    "    def __init__(self, learning_rate=.001, max_iters=1e2, epsilon=1e-8, batch_size=32, beta1 = 0.9, beta2 = 0.99):\n",
    "        self.learning_rate = learning_rate\n",
    "        self.max_iters = max_iters\n",
    "        self.epsilon = epsilon\n",
    "        self.batch_size = batch_size\n",
    "        self.beta1 = beta1\n",
    "        self.beta2 = beta2\n",
    "\n",
    "    def run(self, gradient_fn, x, y, params):\n",
    "        N = x.shape[0]\n",
    "        if self.batch_size > N:   #in this case mini batch becomes full batch\n",
    "            self.batch_size = N\n",
    "\n",
    "        M = np.zeros_like(params)   # initialize M and S to zeros\n",
    "        S = np.zeros_like(params)\n",
    "        Mh = np.zeros_like(params)\n",
    "        Sh = np.zeros_like(params)\n",
    "\n",
    "        norms = np.array([np.inf])\n",
    "        t = 1\n",
    "        while np.any(norms > self.epsilon) and t < self.max_iters:\n",
    "            random_indices = np.random.permutation(N)\n",
    "            x_tmp = x[random_indices]\n",
    "            y_tmp = y[random_indices]\n",
    "            for j in range(0, N, self.batch_size):\n",
    "                xj = x_tmp[j:j+self.batch_size]\n",
    "                yj = y_tmp[j:j+self.batch_size]\n",
    "                grad = gradient_fn(xj, yj, params)\n",
    "                for p in range(len(params)):\n",
    "                    M[p] = self.beta1 * M[p] + (1-self.beta1) * grad[p]\n",
    "                    S[p] = self.beta2 * S[p] + (1-self.beta2) * np.square(grad[p])\n",
    "                    Mh[p] = M[p] / (1.0 - self.beta1**(t))\n",
    "                    Sh[p] = S[p] / (1.0 - self.beta2**(t))\n",
    "                    params[p] -= self.learning_rate * Mh[p] / (np.sqrt(Sh[p]) + np.finfo(float).eps)\n",
    "            t += 1\n",
    "            norms = np.array([np.linalg.norm(g) for g in grad])\n",
    "        if t == self.max_iters:\n",
    "            print(\"Did not converge at maximum iteration.\")\n",
    "            print(\"norms =\", norms)\n",
    "        return params\n"
   ]
  },
  {
   "cell_type": "markdown",
   "metadata": {
    "id": "jmCklVg0XC1M"
   },
   "source": [
    "# Implementation with history (for loss/accuracy plots)"
   ]
  },
  {
   "cell_type": "markdown",
   "metadata": {
    "id": "0a7wNzReXerB"
   },
   "source": [
    "## Model (1) with history"
   ]
  },
  {
   "cell_type": "code",
   "execution_count": 21,
   "metadata": {
    "id": "2y9z90bFXkVU"
   },
   "outputs": [],
   "source": [
    "class MLP_None_Hist:\n",
    "    # No hidden layer\n",
    "    \n",
    "    def __init__(self):\n",
    "        # no hidden layers and no activation functions\n",
    "        self.norm_hist = []\n",
    "        self.param_hist = []\n",
    "    \n",
    "    def fit(self, x, y, optimizer):\n",
    "        N,D = x.shape\n",
    "        y = onehot(y)\n",
    "        C = y.shape[1]\n",
    "        def gradient(x, y, params):\n",
    "            # W is C x D\n",
    "            W = params[0]\n",
    "            yh = softmax(np.matmul(x, W.T))         #N x C\n",
    "            # using softmax cross-entropy loss\n",
    "            dy = yh - y                             #N x C\n",
    "            dW = np.matmul(dy.T, x)                 #C x D\n",
    "            dparams = [dW]\n",
    "            return dparams\n",
    "\n",
    "        # initialize weights to random numbers N(0, 1) * .01\n",
    "        W0 = np.random.randn(C,D) * .01\n",
    "        params0 = [W0]\n",
    "        self.params, self.norm_hist, self.param_hist = optimizer.run(gradient, x, y, params0)\n",
    "        return self\n",
    "    \n",
    "    def predict(self, x):\n",
    "        W = self.params[0]\n",
    "        yh = softmax(np.matmul(x, W.T))             #N x C\n",
    "        return decode(yh)                           #N\n",
    "\n",
    "    def check(params, x):\n",
    "        W = params[0]\n",
    "        yh = softmax(np.matmul(x, W.T))             #N x C\n",
    "        return decode(yh)                           #N"
   ]
  },
  {
   "cell_type": "markdown",
   "metadata": {
    "id": "w4ruF-8hYhy1"
   },
   "source": [
    "## Model (2) with history"
   ]
  },
  {
   "cell_type": "code",
   "execution_count": 22,
   "metadata": {
    "id": "ClsqKVa_YhLE"
   },
   "outputs": [],
   "source": [
    "class MLP_One_ReLU_Hist:\n",
    "    # One hidden layer, ReLU activation function \n",
    "    \n",
    "    def __init__(self, M = 128):\n",
    "        # by default: 128 hidden units\n",
    "        self.M = M\n",
    "        self.norm_hist = []\n",
    "        self.param_hist = []\n",
    "            \n",
    "    def fit(self, x, y, optimizer):\n",
    "        N,D = x.shape\n",
    "        y = onehot(y)\n",
    "        C = y.shape[1]\n",
    "        def gradient(x, y, params):\n",
    "            V, W = params\n",
    "            # V is M x D, W is C x M\n",
    "            q = np.matmul(x, V.T)                 #N x M\n",
    "            z = ReLU(q)                           #N x M\n",
    "            yh = softmax(np.matmul(z, W.T))       #N x C\n",
    "            dy = yh - y                           #N x C\n",
    "            dW = np.matmul(dy.T, z)               #C x M\n",
    "            dz = np.matmul(dy, W)                 #N x M\n",
    "            dV = np.matmul((dz * dReLU(q)).T, x)  #M x D\n",
    "            dparams = [dV, dW]\n",
    "            return dparams\n",
    "        \n",
    "        # initialize weights to random numbers N(0, 1) * .01\n",
    "        W0 = np.random.randn(C, self.M) * .01\n",
    "        V0 = np.random.randn(self.M, D) * .01\n",
    "        params0 = [V0, W0]\n",
    "        self.params, self.norm_hist, self.param_hist = optimizer.run(gradient, x, y, params0)\n",
    "        return self\n",
    "    \n",
    "    def predict(self, x):\n",
    "        V, W = self.params\n",
    "        z = ReLU(np.matmul(x, V.T))               #N x M\n",
    "        yh = softmax(np.matmul(z, W.T))           #N x C\n",
    "        return decode(yh)                         #N\n",
    "    \n",
    "    def check(params, x):\n",
    "        V, W = params\n",
    "        z = ReLU(np.matmul(x, V.T))               #N x M\n",
    "        yh = softmax(np.matmul(z, W.T))           #N x C\n",
    "        return decode(yh)                         #N"
   ]
  },
  {
   "cell_type": "markdown",
   "metadata": {
    "id": "PfshDlbBYrwC"
   },
   "source": [
    "## Model (3) with history"
   ]
  },
  {
   "cell_type": "code",
   "execution_count": 23,
   "metadata": {
    "id": "rL_773RnYqoL"
   },
   "outputs": [],
   "source": [
    "class MLP_Two_ReLU_Hist:\n",
    "    # Two hidden layers, ReLU activation function \n",
    "    \n",
    "    def __init__(self, M = 128, O = 128):\n",
    "        # by default: 128 hidden units\n",
    "        self.M = M\n",
    "        self.O = O\n",
    "        self.norm_hist = []\n",
    "        self.param_hist = []\n",
    "            \n",
    "    def fit(self, x, y, optimizer):\n",
    "        N,D = x.shape\n",
    "        y = onehot(y)\n",
    "        C = y.shape[1]\n",
    "        def gradient(x, y, params):\n",
    "            U, V, W = params\n",
    "            #  U is M X D, V is O x M, W is C x O\n",
    "            r = np.matmul(x, U.T)                 #N X M\n",
    "            s = ReLU(r)                           #N X M\n",
    "            q = np.matmul(s, V.T)                 #N x O\n",
    "            z = ReLU(q)                           #N x O\n",
    "            yh = softmax(np.matmul(z, W.T))       #N x C\n",
    "            dy = yh - y                           #N x C\n",
    "            dW = np.matmul(dy.T, z)               #C x O\n",
    "            dz = np.matmul(dy, W)                 #N x O\n",
    "            dV = np.matmul((dz * dReLU(q)).T, s)  #O x M\n",
    "            ds = np.matmul(dz, V)                 #N X M\n",
    "            dU = np.matmul((ds * dReLU(r)).T, x)  #M X D\n",
    "            dparams = [dU, dV, dW]\n",
    "            return dparams\n",
    "        \n",
    "        # initialize weights to random numbers N(0, 1) * .01\n",
    "        W0 = np.random.randn(C, self.O) * .01\n",
    "        V0 = np.random.randn(self.O, self.M) * .01\n",
    "        U0 = np.random.randn(self.M, D) * .01\n",
    "        params0 = [U0, V0, W0]\n",
    "        self.params, self.norm_hist, self.param_hist = optimizer.run(gradient, x, y, params0)\n",
    "        return self\n",
    "    \n",
    "    def predict(self, x):\n",
    "        U, V, W = self.params\n",
    "        s = ReLU(np.matmul(x, U.T))               #N X M\n",
    "        z = ReLU(np.matmul(s, V.T))               #N X O\n",
    "        yh = softmax(np.matmul(z, W.T))           #N x C\n",
    "        return decode(yh)                         #N\n",
    "\n",
    "    def check(params, x):\n",
    "        U, V, W = params\n",
    "        s = ReLU(np.matmul(x, U.T))               #N X M\n",
    "        z = ReLU(np.matmul(s, V.T))               #N X O\n",
    "        yh = softmax(np.matmul(z, W.T))           #N x C\n",
    "        return decode(yh)                         #N"
   ]
  },
  {
   "cell_type": "markdown",
   "metadata": {
    "id": "YrCCAQTcY1M6"
   },
   "source": [
    "## Model (4) with history"
   ]
  },
  {
   "cell_type": "code",
   "execution_count": 24,
   "metadata": {
    "id": "oViF7JdeZAEG"
   },
   "outputs": [],
   "source": [
    "class MLP_Two_tanh_Hist:\n",
    "    # Two hidden layers, tanh activation function \n",
    "    \n",
    "    def __init__(self, M = 128, O = 128):\n",
    "        # by default: 128 hidden units\n",
    "        self.M = M\n",
    "        self.O = O\n",
    "        self.norm_hist = []\n",
    "        self.param_hist = []\n",
    "            \n",
    "    def fit(self, x, y, optimizer):\n",
    "        N,D = x.shape\n",
    "        y = onehot(y)\n",
    "        C = y.shape[1]\n",
    "        def gradient(x, y, params):\n",
    "            U, V, W = params\n",
    "            #  U is M X D, V is O x M, W is C x O\n",
    "            r = np.matmul(x, U.T)                 #N X M\n",
    "            s = tanh(r)                           #N X M\n",
    "            q = np.matmul(s, V.T)                 #N x O\n",
    "            z = tanh(q)                           #N x O\n",
    "            yh = softmax(np.matmul(z, W.T))       #N x C\n",
    "            dy = yh - y                           #N x C\n",
    "            dW = np.matmul(dy.T, z)               #C x O\n",
    "            dz = np.matmul(dy, W)                 #N x O\n",
    "            dV = np.matmul((dz * dtanh(q)).T, s)  #O x M\n",
    "            ds = np.matmul(dz, V)                 #N X M\n",
    "            dU = np.matmul((ds * dtanh(r)).T, x)  #M X D\n",
    "            dparams = [dU, dV, dW]\n",
    "            return dparams\n",
    "        \n",
    "        # initialize weights to random numbers N(0, 1) * .01\n",
    "        W0 = np.random.randn(C, self.O) * .01\n",
    "        V0 = np.random.randn(self.O, self.M) * .01\n",
    "        U0 = np.random.randn(self.M, D) * .01\n",
    "        params0 = [U0, V0, W0]\n",
    "        self.params, self.norm_hist, self.param_hist = optimizer.run(gradient, x, y, params0)\n",
    "        return self\n",
    "    \n",
    "    def predict(self, x):\n",
    "        U, V, W = self.params\n",
    "        s = tanh(np.matmul(x, U.T))               #N X M\n",
    "        z = tanh(np.matmul(s, V.T))               #N X O\n",
    "        yh = softmax(np.matmul(z, W.T))           #N x C\n",
    "        return decode(yh)                         #N\n",
    "\n",
    "    def check(params, x):\n",
    "        U, V, W = params\n",
    "        s = tanh(np.matmul(x, U.T))               #N X M\n",
    "        z = tanh(np.matmul(s, V.T))               #N X O\n",
    "        yh = softmax(np.matmul(z, W.T))           #N x C\n",
    "        return decode(yh)                         #N"
   ]
  },
  {
   "cell_type": "markdown",
   "metadata": {
    "id": "ciLDdHtPZKeR"
   },
   "source": [
    "## Model (5) with history"
   ]
  },
  {
   "cell_type": "code",
   "execution_count": 25,
   "metadata": {
    "id": "FMzwB0sjZKO8"
   },
   "outputs": [],
   "source": [
    "class MLP_Two_leakyReLU_Hist:\n",
    "    # Two hidden layers, leaky ReLU activation function \n",
    "    \n",
    "    def __init__(self, M = 128, O = 128):\n",
    "        # by default: 128 hidden units\n",
    "        self.M = M\n",
    "        self.O = O\n",
    "        self.norm_hist = []\n",
    "        self.param_hist = []\n",
    "            \n",
    "    def fit(self, x, y, optimizer):\n",
    "        N,D = x.shape\n",
    "        y = onehot(y)\n",
    "        C = y.shape[1]\n",
    "        def gradient(x, y, params):\n",
    "            U, V, W = params\n",
    "            #  U is M X D, V is O x M, W is C x O\n",
    "            r = np.matmul(x, U.T)                 #N X M\n",
    "            s = leakyReLU(r)                           #N X M\n",
    "            q = np.matmul(s, V.T)                 #N x O\n",
    "            z = leakyReLU(q)                           #N x O\n",
    "            yh = softmax(np.matmul(z, W.T))       #N x C\n",
    "            dy = yh - y                           #N x C\n",
    "            dW = np.matmul(dy.T, z)               #C x O\n",
    "            dz = np.matmul(dy, W)                 #N x O\n",
    "            dV = np.matmul((dz * dleakyReLU(q)).T, s)  #O x M\n",
    "            ds = np.matmul(dz, V)                 #N X M\n",
    "            dU = np.matmul((ds * dleakyReLU(r)).T, x)  #M X D\n",
    "            dparams = [dU, dV, dW]\n",
    "            return dparams\n",
    "        \n",
    "        # initialize weights to random numbers N(0, 1) * .01\n",
    "        W0 = np.random.randn(C, self.O) * .01\n",
    "        V0 = np.random.randn(self.O, self.M) * .01\n",
    "        U0 = np.random.randn(self.M, D) * .01\n",
    "        params0 = [U0, V0, W0]\n",
    "        self.params, self.norm_hist, self.param_hist = optimizer.run(gradient, x, y, params0)\n",
    "        return self\n",
    "    \n",
    "    def predict(self, x):\n",
    "        U, V, W = self.params\n",
    "        s = leakyReLU(np.matmul(x, U.T))               #N X M\n",
    "        z = leakyReLU(np.matmul(s, V.T))               #N X O\n",
    "        yh = softmax(np.matmul(z, W.T))           #N x C\n",
    "        return decode(yh)                         #N\n",
    "\n",
    "    def check(params, x):\n",
    "        U, V, W = params\n",
    "        s = leakyReLU(np.matmul(x, U.T))               #N X M\n",
    "        z = leakyReLU(np.matmul(s, V.T))               #N X O\n",
    "        yh = softmax(np.matmul(z, W.T))           #N x C\n",
    "        return decode(yh)                         #N"
   ]
  },
  {
   "cell_type": "markdown",
   "metadata": {
    "id": "EGJzfVTYZcRj"
   },
   "source": [
    "## Model (6) with history"
   ]
  },
  {
   "cell_type": "code",
   "execution_count": 26,
   "metadata": {
    "id": "6Nx62LWiZfFx"
   },
   "outputs": [],
   "source": [
    "class MLP_Two_ReLU_Drop_Hist:\n",
    "    # Two hidden layers, ReLU activation function, dropout regularization\n",
    "    \n",
    "    def __init__(self, M = 128, O = 128, keep_rate = 0.8):\n",
    "        # by default: 128 hidden units\n",
    "        self.M = M\n",
    "        self.O = O\n",
    "        self.keep_rate = keep_rate\n",
    "        self.norm_hist = []\n",
    "        self.param_hist = []\n",
    "            \n",
    "    def fit(self, x, y, optimizer):\n",
    "        N,D = x.shape\n",
    "        y = onehot(y)\n",
    "        C = y.shape[1]\n",
    "        def gradient(x, y, params):     \n",
    "            U, V, W = params\n",
    "            # V is O x M, W is C x O, U is M X D\n",
    "            r = np.matmul(x, U.T)                 #N X M\n",
    "            s = ReLU(r)                           #N X M\n",
    "            dr = np.random.rand(s.shape[0],s.shape[1]) #add dropout in at the first layer.\n",
    "            dr = dr < self.keep_rate\n",
    "            s_d = s * dr\n",
    "            s_d = (s_d)/self.keep_rate\n",
    "            q = np.matmul(s_d, V.T)               #N x O\n",
    "            z = ReLU(q)                           #N x O\n",
    "            yh = softmax(np.matmul(z, W.T))       #N x C\n",
    "            dy = yh - y                           #N x C\n",
    "            dW = np.matmul(dy.T, z)               #C x O\n",
    "            dz = np.matmul(dy, W)                 #N x O\n",
    "            dV = np.matmul((dz * dReLU(q)).T, s_d)  #O x M\n",
    "            ds = np.matmul(dz, V)                 #N X M\n",
    "            dU = np.matmul((ds * dReLU(r)).T, x)  #M X D\n",
    "            dparams = [dU, dV, dW]\n",
    "            return dparams\n",
    "        \n",
    "        # initialize weights to random numbers N(0, 1) * .01\n",
    "        W0 = np.random.randn(C, self.O) * .01\n",
    "        V0 = np.random.randn(self.O, self.M) * .01\n",
    "        U0 = np.random.randn(self.M, D) * .01\n",
    "        params0 = [U0, V0, W0]\n",
    "        self.params, self.norm_hist, self.param_hist = optimizer.run(gradient, x, y, params0)\n",
    "        return self\n",
    "    \n",
    "    def predict(self, x):\n",
    "        U, V, W = self.params\n",
    "        s = ReLU(np.matmul(x, U.T))               #N X M\n",
    "        z = ReLU(np.matmul(s, V.T))               #N X O\n",
    "        yh = softmax(np.matmul(z, W.T))           #N x C\n",
    "        return decode(yh)                         #N\n",
    "\n",
    "    def check(params, x):\n",
    "        U, V, W = params\n",
    "        s = ReLU(np.matmul(x, U.T))               #N X M\n",
    "        z = ReLU(np.matmul(s, V.T))               #N X O\n",
    "        yh = softmax(np.matmul(z, W.T))           #N x C\n",
    "        return decode(yh)                         #N"
   ]
  },
  {
   "cell_type": "markdown",
   "metadata": {
    "id": "h2x0eEzwaLG6"
   },
   "source": [
    "## Model (7) with history"
   ]
  },
  {
   "cell_type": "code",
   "execution_count": 27,
   "metadata": {
    "id": "tzbi8nIoaOLK"
   },
   "outputs": [],
   "source": [
    "class MLP_Two_tanh_Drop_Hist:\n",
    "    # Two hidden layers, tanh activation function, dropout regularization\n",
    "    \n",
    "    def __init__(self, M = 128, O = 128, keep_rate = 0.8):\n",
    "        # by default: 128 hidden units\n",
    "        self.M = M\n",
    "        self.O = O\n",
    "        self.keep_rate = keep_rate\n",
    "        self.norm_hist = []\n",
    "        self.param_hist = []\n",
    "            \n",
    "    def fit(self, x, y, optimizer):\n",
    "        N,D = x.shape\n",
    "        y = onehot(y)\n",
    "        C = y.shape[1]\n",
    "        def gradient(x, y, params):     \n",
    "            U, V, W = params\n",
    "            # V is O x M, W is C x O, U is M X D\n",
    "            r = np.matmul(x, U.T)                 #N X M\n",
    "            s = tanh(r)                           #N X M\n",
    "            dr = np.random.rand(s.shape[0],s.shape[1]) #add dropout in at the first layer.\n",
    "            dr = dr < self.keep_rate\n",
    "            s_d = s * dr\n",
    "            s_d = (s_d)/self.keep_rate\n",
    "            q = np.matmul(s_d, V.T)               #N x O\n",
    "            z = tanh(q)                           #N x O\n",
    "            yh = softmax(np.matmul(z, W.T))       #N x C\n",
    "            dy = yh - y                           #N x C\n",
    "            dW = np.matmul(dy.T, z)               #C x O\n",
    "            dz = np.matmul(dy, W)                 #N x O\n",
    "            dV = np.matmul((dz * dtanh(q)).T, s_d)  #O x M\n",
    "            ds = np.matmul(dz, V)                 #N X M\n",
    "            dU = np.matmul((ds * dtanh(r)).T, x)  #M X D\n",
    "            dparams = [dU, dV, dW]\n",
    "            return dparams\n",
    "        \n",
    "        # initialize weights to random numbers N(0, 1) * .01\n",
    "        W0 = np.random.randn(C, self.O) * .01\n",
    "        V0 = np.random.randn(self.O, self.M) * .01\n",
    "        U0 = np.random.randn(self.M, D) * .01\n",
    "        params0 = [U0, V0, W0]\n",
    "        self.params, self.norm_hist, self.param_hist = optimizer.run(gradient, x, y, params0)\n",
    "        return self\n",
    "    \n",
    "    def predict(self, x):\n",
    "        U, V, W = self.params\n",
    "        s = tanh(np.matmul(x, U.T))               #N X M\n",
    "        z = tanh(np.matmul(s, V.T))               #N X O\n",
    "        yh = softmax(np.matmul(z, W.T))           #N x C\n",
    "        return decode(yh)                         #N\n",
    "\n",
    "    def check(params, x):\n",
    "        U, V, W = params\n",
    "        s = tanh(np.matmul(x, U.T))               #N X M\n",
    "        z = tanh(np.matmul(s, V.T))               #N X O\n",
    "        yh = softmax(np.matmul(z, W.T))           #N x C\n",
    "        return decode(yh)                         #N"
   ]
  },
  {
   "cell_type": "markdown",
   "metadata": {
    "id": "O92gv1qXaeIp"
   },
   "source": [
    "## Model (8) with history"
   ]
  },
  {
   "cell_type": "code",
   "execution_count": 28,
   "metadata": {
    "id": "4Qy17n4Yagbw"
   },
   "outputs": [],
   "source": [
    "class MLP_Two_leakyReLU_Drop_Hist:\n",
    "    # Two hidden layers, leaky ReLU activation function, dropout regularization\n",
    "    \n",
    "    def __init__(self, M = 128, O = 128, keep_rate = 0.8):\n",
    "        # by default: 128 hidden units\n",
    "        self.M = M\n",
    "        self.O = O\n",
    "        self.keep_rate = keep_rate\n",
    "        self.norm_hist = []\n",
    "        self.param_hist = []\n",
    "            \n",
    "    def fit(self, x, y, optimizer):\n",
    "        N,D = x.shape\n",
    "        y = onehot(y)\n",
    "        C = y.shape[1]\n",
    "        def gradient(x, y, params):     \n",
    "            U, V, W = params\n",
    "            # V is O x M, W is C x O, U is M X D\n",
    "            r = np.matmul(x, U.T)                 #N X M\n",
    "            s = leakyReLU(r)                           #N X M\n",
    "            dr = np.random.rand(s.shape[0],s.shape[1]) #add dropout in at the first layer.\n",
    "            dr = dr < self.keep_rate\n",
    "            s_d = s * dr\n",
    "            s_d = (s_d)/self.keep_rate\n",
    "            q = np.matmul(s_d, V.T)               #N x O\n",
    "            z = leakyReLU(q)                           #N x O\n",
    "            yh = softmax(np.matmul(z, W.T))       #N x C\n",
    "            dy = yh - y                           #N x C\n",
    "            dW = np.matmul(dy.T, z)               #C x O\n",
    "            dz = np.matmul(dy, W)                 #N x O\n",
    "            dV = np.matmul((dz * dleakyReLU(q)).T, s_d)  #O x M\n",
    "            ds = np.matmul(dz, V)                 #N X M\n",
    "            dU = np.matmul((ds * dleakyReLU(r)).T, x)  #M X D\n",
    "            dparams = [dU, dV, dW]\n",
    "            return dparams\n",
    "        \n",
    "        # initialize weights to random numbers N(0, 1) * .01\n",
    "        W0 = np.random.randn(C, self.O) * .01\n",
    "        V0 = np.random.randn(self.O, self.M) * .01\n",
    "        U0 = np.random.randn(self.M, D) * .01\n",
    "        params0 = [U0, V0, W0]\n",
    "        self.params, self.norm_hist, self.param_hist = optimizer.run(gradient, x, y, params0)\n",
    "        return self\n",
    "    \n",
    "    def predict(self, x):\n",
    "        U, V, W = self.params\n",
    "        s = leakyReLU(np.matmul(x, U.T))               #N X M\n",
    "        z = leakyReLU(np.matmul(s, V.T))               #N X O\n",
    "        yh = softmax(np.matmul(z, W.T))           #N x C\n",
    "        return decode(yh)                         #N\n",
    "\n",
    "    def check(params, x):\n",
    "        U, V, W = params\n",
    "        s = leakyReLU(np.matmul(x, U.T))               #N X M\n",
    "        z = leakyReLU(np.matmul(s, V.T))               #N X O\n",
    "        yh = softmax(np.matmul(z, W.T))           #N x C\n",
    "        return decode(yh)                         #N"
   ]
  },
  {
   "cell_type": "markdown",
   "metadata": {
    "id": "I88l1y2PXKjh"
   },
   "source": [
    "## Mini Batch with Adam (with history)"
   ]
  },
  {
   "cell_type": "code",
   "execution_count": 29,
   "metadata": {
    "id": "PuAUcBgoXJQB"
   },
   "outputs": [],
   "source": [
    "class AdamMiniBatchGradientDescentHist:\n",
    "\n",
    "    def __init__(self, learning_rate=.001, max_iters=1e2, epsilon=1e-8, batch_size=32, beta1 = 0.9, beta2 = 0.99):\n",
    "        self.learning_rate = learning_rate\n",
    "        self.max_iters = max_iters\n",
    "        self.epsilon = epsilon\n",
    "        self.batch_size = batch_size\n",
    "        self.beta1 = beta1\n",
    "        self.beta2 = beta2\n",
    "\n",
    "    def run(self, gradient_fn, x, y, params):\n",
    "        N = x.shape[0]\n",
    "        if self.batch_size > N:   #in this case mini batch becomes full batch\n",
    "            self.batch_size = N\n",
    "\n",
    "        M = np.zeros_like(params)   # initialize M and S to zeros\n",
    "        S = np.zeros_like(params)\n",
    "        Mh = np.zeros_like(params)\n",
    "        Sh = np.zeros_like(params)\n",
    "\n",
    "        norm_hist = []\n",
    "        param_hist = []\n",
    "\n",
    "        norms = np.array([np.inf])\n",
    "        t = 1\n",
    "        while np.any(norms > self.epsilon) and t < self.max_iters:\n",
    "            random_indices = np.random.permutation(N)\n",
    "            x_tmp = x[random_indices]\n",
    "            y_tmp = y[random_indices]\n",
    "            for j in range(0, N, self.batch_size):\n",
    "                xj = x_tmp[j:j+self.batch_size]\n",
    "                yj = y_tmp[j:j+self.batch_size]\n",
    "                grad = gradient_fn(xj, yj, params)\n",
    "                for p in range(len(params)):\n",
    "                    M[p] = self.beta1 * M[p] + (1-self.beta1) * grad[p]\n",
    "                    S[p] = self.beta2 * S[p] + (1-self.beta2) * np.square(grad[p])\n",
    "                    Mh[p] = M[p] / (1.0 - self.beta1**(t))\n",
    "                    Sh[p] = S[p] / (1.0 - self.beta2**(t))\n",
    "                    params[p] -= self.learning_rate * Mh[p] / (np.sqrt(Sh[p]) + np.finfo(float).eps)\n",
    "            norms = np.array([np.linalg.norm(g) for g in grad])\n",
    "            #start\n",
    "            norm_hist.append(np.mean(norms))\n",
    "            param_hist.append(copy.deepcopy(params))\n",
    "            #end\n",
    "            t += 1\n",
    "        if t == self.max_iters:\n",
    "            print(\"Did not converge at maximum iteration.\")\n",
    "            print(\"norms =\", norms)\n",
    "        return params, norm_hist, param_hist"
   ]
  },
  {
   "cell_type": "markdown",
   "metadata": {
    "id": "aD3lF4LiLfq9"
   },
   "source": [
    "# Running Experiments"
   ]
  },
  {
   "cell_type": "markdown",
   "metadata": {
    "id": "5ZEN1F0gqt2Y"
   },
   "source": [
    "## Varying number of hidden layers"
   ]
  },
  {
   "cell_type": "code",
   "execution_count": 32,
   "metadata": {
    "id": "zZhupljv3Yh1"
   },
   "outputs": [
    {
     "name": "stdout",
     "output_type": "stream",
     "text": [
      "Did not converge at maximum iteration.\n",
      "norms = [2498.92223915]\n",
      "Training accuracy: 87.2%.\n",
      "Test accuracy: 84.7%.\n"
     ]
    },
    {
     "data": {
      "image/png": "[encoded data removed]",
      "text/plain": [
       "<Figure size 432x288 with 1 Axes>"
      ]
     },
     "metadata": {
      "needs_background": "light"
     },
     "output_type": "display_data"
    },
    {
     "data": {
      "image/png": "[encoded data removed]",
      "text/plain": [
       "<Figure size 432x288 with 1 Axes>"
      ]
     },
     "metadata": {
      "needs_background": "light"
     },
     "output_type": "display_data"
    }
   ],
   "source": [
    "model = MLP_None_Hist()\n",
    "\n",
    "optimizer = AdamMiniBatchGradientDescentHist(learning_rate=.01, max_iters=1e2, epsilon=1e-4, batch_size=10000)\n",
    "model.fit(x_train, y_train, optimizer)\n",
    "yh_train = model.predict(x_train)\n",
    "acc_train = evaluate_acc(y_train, yh_train)\n",
    "yh_test = model.predict(x_test)\n",
    "acc_test = evaluate_acc(y_test, yh_test)\n",
    "print(f'Training accuracy: {acc_train:.3}%.')\n",
    "print(f'Test accuracy: {acc_test:.3}%.')\n",
    "\n",
    "plt.plot(model.norm_hist)\n",
    "plt.title('Loss')\n",
    "plt.show()\n",
    "\n",
    "acc_train = []\n",
    "acc_test = []\n",
    "for i in range (len(model.param_hist)):\n",
    "    yh_train = MLP_None_Hist.check(model.param_hist[i], x_train)\n",
    "    yh_test = MLP_None_Hist.check(model.param_hist[i], x_test)\n",
    "    acc_train.append(evaluate_acc(yh_train, y_train))\n",
    "    acc_test.append(evaluate_acc(yh_test, y_test))\n",
    "\n",
    "plt.plot(acc_train)\n",
    "plt.plot(acc_test)\n",
    "plt.title('Train and test accuracy')\n",
    "plt.legend(['train','test'])\n",
    "plt.show()\n"
   ]
  },
  {
   "cell_type": "code",
   "execution_count": 31,
   "metadata": {
    "id": "DivLP6GKpZBt"
   },
   "outputs": [
    {
     "name": "stdout",
     "output_type": "stream",
     "text": [
      "Did not converge at maximum iteration.\n",
      "norms = [2696.81160198 6724.1494352 ]\n",
      "Training accuracy: 93.3%.\n",
      "Test accuracy: 88.1%.\n"
     ]
    },
    {
     "data": {
      "image/png": "[encoded data removed]",
      "text/plain": [
       "<Figure size 432x288 with 1 Axes>"
      ]
     },
     "metadata": {
      "needs_background": "light"
     },
     "output_type": "display_data"
    },
    {
     "data": {
      "image/png": "[encoded data removed]",
      "text/plain": [
       "<Figure size 432x288 with 1 Axes>"
      ]
     },
     "metadata": {
      "needs_background": "light"
     },
     "output_type": "display_data"
    }
   ],
   "source": [
    "model = MLP_One_ReLU_Hist(M=128)\n",
    "\n",
    "optimizer = AdamMiniBatchGradientDescentHist(learning_rate=.01, max_iters=1e2, epsilon=1e-4, batch_size=10000)\n",
    "model.fit(x_train, y_train, optimizer)\n",
    "yh_train = model.predict(x_train)\n",
    "acc_train = evaluate_acc(y_train, yh_train)\n",
    "yh_test = model.predict(x_test)\n",
    "acc_test = evaluate_acc(y_test, yh_test)\n",
    "print(f'Training accuracy: {acc_train:.3}%.')\n",
    "print(f'Test accuracy: {acc_test:.3}%.')\n",
    "\n",
    "plt.plot(model.norm_hist)\n",
    "plt.title('Loss')\n",
    "plt.show()\n",
    "\n",
    "acc_train = []\n",
    "acc_test = []\n",
    "for i in range (len(model.param_hist)):\n",
    "    yh_train = MLP_One_ReLU_Hist.check(model.param_hist[i], x_train)\n",
    "    yh_test = MLP_One_ReLU_Hist.check(model.param_hist[i], x_test)\n",
    "    acc_train.append(evaluate_acc(yh_train, y_train))\n",
    "    acc_test.append(evaluate_acc(yh_test, y_test))\n",
    "\n",
    "plt.plot(acc_train)\n",
    "plt.plot(acc_test)\n",
    "plt.title('Train and test accuracy')\n",
    "plt.legend(['train','test'])\n",
    "plt.show()\n"
   ]
  },
  {
   "cell_type": "code",
   "execution_count": 33,
   "metadata": {
    "id": "jmdSkfYqrHca"
   },
   "outputs": [
    {
     "name": "stdout",
     "output_type": "stream",
     "text": [
      "Did not converge at maximum iteration.\n",
      "norms = [4779.52532072 3257.22797884 2917.35352252]\n",
      "Training accuracy: 91.0%.\n",
      "Test accuracy: 87.8%.\n"
     ]
    },
    {
     "data": {
      "image/png": "[encoded data removed]",
      "text/plain": [
       "<Figure size 432x288 with 1 Axes>"
      ]
     },
     "metadata": {
      "needs_background": "light"
     },
     "output_type": "display_data"
    },
    {
     "data": {
      "image/png": "[encoded data removed]",
      "text/plain": [
       "<Figure size 432x288 with 1 Axes>"
      ]
     },
     "metadata": {
      "needs_background": "light"
     },
     "output_type": "display_data"
    }
   ],
   "source": [
    "model = MLP_Two_ReLU_Hist(M=128,O=128)\n",
    "\n",
    "optimizer = AdamMiniBatchGradientDescentHist(learning_rate=.01, max_iters=1e2, epsilon=1e-4, batch_size=10000)\n",
    "model.fit(x_train, y_train, optimizer)\n",
    "yh_train = model.predict(x_train)\n",
    "acc_train = evaluate_acc(y_train, yh_train)\n",
    "yh_test = model.predict(x_test)\n",
    "acc_test = evaluate_acc(y_test, yh_test)\n",
    "print(f'Training accuracy: {acc_train:.3}%.')\n",
    "print(f'Test accuracy: {acc_test:.3}%.')\n",
    "\n",
    "plt.plot(model.norm_hist)\n",
    "plt.title('Loss')\n",
    "plt.show()\n",
    "\n",
    "acc_train = []\n",
    "acc_test = []\n",
    "for i in range (len(model.param_hist)):\n",
    "    yh_train = MLP_Two_ReLU_Hist.check(model.param_hist[i], x_train)\n",
    "    yh_test = MLP_Two_ReLU_Hist.check(model.param_hist[i], x_test)\n",
    "    acc_train.append(evaluate_acc(yh_train, y_train))\n",
    "    acc_test.append(evaluate_acc(yh_test, y_test))\n",
    "\n",
    "plt.plot(acc_train)\n",
    "plt.plot(acc_test)\n",
    "plt.title('Train and test accuracy')\n",
    "plt.legend(['train','test'])\n",
    "plt.show()\n"
   ]
  },
  {
   "cell_type": "markdown",
   "metadata": {
    "id": "y8E_2Y-59hWf"
   },
   "source": [
    "## Varying the activation function"
   ]
  },
  {
   "cell_type": "code",
   "execution_count": 34,
   "metadata": {
    "id": "CNNmp3C09lRE"
   },
   "outputs": [
    {
     "name": "stdout",
     "output_type": "stream",
     "text": [
      "Did not converge at maximum iteration.\n",
      "norms = [7508.69942453 3289.73829291 1873.29721688]\n",
      "Training accuracy: 95.8%.\n",
      "Test accuracy: 88.4%.\n"
     ]
    },
    {
     "data": {
      "image/png": "[encoded data removed]",
      "text/plain": [
       "<Figure size 432x288 with 1 Axes>"
      ]
     },
     "metadata": {
      "needs_background": "light"
     },
     "output_type": "display_data"
    },
    {
     "data": {
      "image/png": "[encoded data removed]",
      "text/plain": [
       "<Figure size 432x288 with 1 Axes>"
      ]
     },
     "metadata": {
      "needs_background": "light"
     },
     "output_type": "display_data"
    }
   ],
   "source": [
    "model = MLP_Two_tanh_Hist(M=128,O=128)\n",
    "\n",
    "optimizer = AdamMiniBatchGradientDescentHist(learning_rate=.01, max_iters=1e2, epsilon=1e-4, batch_size=10000)\n",
    "model.fit(x_train, y_train, optimizer)\n",
    "yh_train = model.predict(x_train)\n",
    "acc_train = evaluate_acc(y_train, yh_train)\n",
    "yh_test = model.predict(x_test)\n",
    "acc_test = evaluate_acc(y_test, yh_test)\n",
    "print(f'Training accuracy: {acc_train:.3}%.')\n",
    "print(f'Test accuracy: {acc_test:.3}%.')\n",
    "\n",
    "plt.plot(model.norm_hist)\n",
    "plt.title('Loss')\n",
    "plt.show()\n",
    "\n",
    "acc_train = []\n",
    "acc_test = []\n",
    "for i in range (len(model.param_hist)):\n",
    "    yh_train = MLP_Two_tanh_Hist.check(model.param_hist[i], x_train)\n",
    "    yh_test = MLP_Two_tanh_Hist.check(model.param_hist[i], x_test)\n",
    "    acc_train.append(evaluate_acc(yh_train, y_train))\n",
    "    acc_test.append(evaluate_acc(yh_test, y_test))\n",
    "\n",
    "plt.plot(acc_train)\n",
    "plt.plot(acc_test)\n",
    "plt.title('Train and test accuracy')\n",
    "plt.legend(['train','test'])\n",
    "plt.show()\n"
   ]
  },
  {
   "cell_type": "code",
   "execution_count": 35,
   "metadata": {
    "id": "rSgx0X0T9n8o"
   },
   "outputs": [
    {
     "name": "stdout",
     "output_type": "stream",
     "text": [
      "Did not converge at maximum iteration.\n",
      "norms = [8233.39066246 1743.07899476 2666.98321697]\n",
      "Training accuracy: 93.7%.\n",
      "Test accuracy: 87.8%.\n"
     ]
    },
    {
     "data": {
      "image/png": "[encoded data removed]",
      "text/plain": [
       "<Figure size 432x288 with 1 Axes>"
      ]
     },
     "metadata": {
      "needs_background": "light"
     },
     "output_type": "display_data"
    },
    {
     "data": {
      "image/png": "[encoded data removed]",
      "text/plain": [
       "<Figure size 432x288 with 1 Axes>"
      ]
     },
     "metadata": {
      "needs_background": "light"
     },
     "output_type": "display_data"
    }
   ],
   "source": [
    "model = MLP_Two_leakyReLU_Hist(M=128,O=128)\n",
    "\n",
    "optimizer = AdamMiniBatchGradientDescentHist(learning_rate=.01, max_iters=1e2, epsilon=1e-4, batch_size=10000)\n",
    "model.fit(x_train, y_train, optimizer)\n",
    "yh_train = model.predict(x_train)\n",
    "acc_train = evaluate_acc(y_train, yh_train)\n",
    "yh_test = model.predict(x_test)\n",
    "acc_test = evaluate_acc(y_test, yh_test)\n",
    "print(f'Training accuracy: {acc_train:.3}%.')\n",
    "print(f'Test accuracy: {acc_test:.3}%.')\n",
    "\n",
    "plt.plot(model.norm_hist)\n",
    "plt.title('Loss')\n",
    "plt.show()\n",
    "\n",
    "acc_train = []\n",
    "acc_test = []\n",
    "for i in range (len(model.param_hist)):\n",
    "    yh_train = MLP_Two_leakyReLU_Hist.check(model.param_hist[i], x_train)\n",
    "    yh_test = MLP_Two_leakyReLU_Hist.check(model.param_hist[i], x_test)\n",
    "    acc_train.append(evaluate_acc(yh_train, y_train))\n",
    "    acc_test.append(evaluate_acc(yh_test, y_test))\n",
    "\n",
    "plt.plot(acc_train)\n",
    "plt.plot(acc_test)\n",
    "plt.title('Train and test accuracy')\n",
    "plt.legend(['train','test'])\n",
    "plt.show()\n"
   ]
  },
  {
   "cell_type": "markdown",
   "metadata": {
    "id": "HsfP-0N3YloK"
   },
   "source": [
    "## Adding dropout regularization"
   ]
  },
  {
   "cell_type": "code",
   "execution_count": 36,
   "metadata": {
    "id": "3E8IUSX8YgjE"
   },
   "outputs": [
    {
     "name": "stdout",
     "output_type": "stream",
     "text": [
      "Did not converge at maximum iteration.\n",
      "norms = [1979.43848566 1500.04698132 4319.91888162]\n",
      "Training accuracy: 89.8%.\n",
      "Test accuracy: 87.3%.\n"
     ]
    },
    {
     "data": {
      "image/png": "[encoded data removed]",
      "text/plain": [
       "<Figure size 432x288 with 1 Axes>"
      ]
     },
     "metadata": {
      "needs_background": "light"
     },
     "output_type": "display_data"
    },
    {
     "data": {
      "image/png": "[encoded data removed]",
      "text/plain": [
       "<Figure size 432x288 with 1 Axes>"
      ]
     },
     "metadata": {
      "needs_background": "light"
     },
     "output_type": "display_data"
    }
   ],
   "source": [
    "model = MLP_Two_ReLU_Drop_Hist(M=128,O=128,keep_rate=0.80)\n",
    "\n",
    "optimizer = AdamMiniBatchGradientDescentHist(learning_rate=.01, max_iters=1e2, epsilon=1e-4, batch_size=10000)\n",
    "model.fit(x_train, y_train, optimizer)\n",
    "yh_train = model.predict(x_train)\n",
    "acc_train = evaluate_acc(y_train, yh_train)\n",
    "yh_test = model.predict(x_test)\n",
    "acc_test = evaluate_acc(y_test, yh_test)\n",
    "print(f'Training accuracy: {acc_train:.3}%.')\n",
    "print(f'Test accuracy: {acc_test:.3}%.')\n",
    "\n",
    "plt.plot(model.norm_hist)\n",
    "plt.title('Loss')\n",
    "plt.show()\n",
    "\n",
    "acc_train = []\n",
    "acc_test = []\n",
    "for i in range (len(model.param_hist)):\n",
    "    yh_train = MLP_Two_ReLU_Drop_Hist.check(model.param_hist[i], x_train)\n",
    "    yh_test = MLP_Two_ReLU_Drop_Hist.check(model.param_hist[i], x_test)\n",
    "    acc_train.append(evaluate_acc(yh_train, y_train))\n",
    "    acc_test.append(evaluate_acc(yh_test, y_test))\n",
    "\n",
    "plt.plot(acc_train)\n",
    "plt.plot(acc_test)\n",
    "plt.title('Train and test accuracy')\n",
    "plt.legend(['train','test'])\n",
    "plt.show()\n"
   ]
  },
  {
   "cell_type": "markdown",
   "metadata": {
    "id": "ym96whPPB3Ln"
   },
   "source": [
    "## Using unnormalized images"
   ]
  },
  {
   "cell_type": "code",
   "execution_count": 39,
   "metadata": {
    "id": "4GknGwNDB6zp"
   },
   "outputs": [
    {
     "name": "stdout",
     "output_type": "stream",
     "text": [
      "Did not converge at maximum iteration.\n",
      "norms = [23528.36749092  8540.02892054 12753.95336782]\n",
      "Training accuracy: 94.8%.\n",
      "Test accuracy: 88.6%.\n"
     ]
    },
    {
     "data": {
      "image/png": "[encoded data removed]",
      "text/plain": [
       "<Figure size 432x288 with 1 Axes>"
      ]
     },
     "metadata": {
      "needs_background": "light"
     },
     "output_type": "display_data"
    },
    {
     "data": {
      "image/png": "[encoded data removed]",
      "text/plain": [
       "<Figure size 432x288 with 1 Axes>"
      ]
     },
     "metadata": {
      "needs_background": "light"
     },
     "output_type": "display_data"
    }
   ],
   "source": [
    "model = MLP_Two_ReLU_Hist(M=128,O=128)\n",
    "\n",
    "optimizer = AdamMiniBatchGradientDescentHist(learning_rate=.001, max_iters=1e2, epsilon=1e-4, batch_size=10000)\n",
    "model.fit(x_train_unnorm, y_train, optimizer)\n",
    "yh_train = model.predict(x_train_unnorm)\n",
    "acc_train = evaluate_acc(y_train, yh_train)\n",
    "yh_test = model.predict(x_test_unnorm)\n",
    "acc_test = evaluate_acc(y_test, yh_test)\n",
    "print(f'Training accuracy: {acc_train:.3}%.')\n",
    "print(f'Test accuracy: {acc_test:.3}%.')\n",
    "\n",
    "plt.plot(model.norm_hist)\n",
    "plt.title('Loss')\n",
    "plt.show()\n",
    "\n",
    "acc_train = []\n",
    "acc_test = []\n",
    "for i in range (len(model.param_hist)):\n",
    "    yh_train = MLP_Two_ReLU_Hist.check(model.param_hist[i], x_train_unnorm)\n",
    "    yh_test = MLP_Two_ReLU_Hist.check(model.param_hist[i], x_test_unnorm)\n",
    "    acc_train.append(evaluate_acc(yh_train, y_train))\n",
    "    acc_test.append(evaluate_acc(yh_test, y_test))\n",
    "\n",
    "plt.plot(acc_train)\n",
    "plt.plot(acc_test)\n",
    "plt.title('Train and test accuracy')\n",
    "plt.legend(['train','test'])\n",
    "plt.show()\n"
   ]
  },
  {
   "cell_type": "markdown",
   "metadata": {
    "id": "pnzVasdABnEZ"
   },
   "source": [
    "## Optimal MLP model"
   ]
  },
  {
   "cell_type": "code",
   "execution_count": 40,
   "metadata": {
    "id": "UbggOsfQBq5r"
   },
   "outputs": [
    {
     "name": "stdout",
     "output_type": "stream",
     "text": [
      "Did not converge at maximum iteration.\n",
      "norms = [4194.35964529  826.51643215 1296.5310306 ]\n",
      "Training accuracy: 95.2%.\n",
      "Test accuracy: 89.3%.\n"
     ]
    },
    {
     "data": {
      "image/png": "[encoded data removed]",
      "text/plain": [
       "<Figure size 432x288 with 1 Axes>"
      ]
     },
     "metadata": {
      "needs_background": "light"
     },
     "output_type": "display_data"
    },
    {
     "data": {
      "image/png": "[encoded data removed]",
      "text/plain": [
       "<Figure size 432x288 with 1 Axes>"
      ]
     },
     "metadata": {
      "needs_background": "light"
     },
     "output_type": "display_data"
    }
   ],
   "source": [
    "model = MLP_Two_tanh_Drop_Hist(M=256,O=128,keep_rate=0.75)\n",
    "\n",
    "optimizer = AdamMiniBatchGradientDescentHist(learning_rate=.01, max_iters=1e2, epsilon=1e-4, batch_size=10000)\n",
    "model.fit(x_train, y_train, optimizer)\n",
    "yh_train = model.predict(x_train)\n",
    "acc_train = evaluate_acc(y_train, yh_train)\n",
    "yh_test = model.predict(x_test)\n",
    "acc_test = evaluate_acc(y_test, yh_test)\n",
    "print(f'Training accuracy: {acc_train:.3}%.')\n",
    "print(f'Test accuracy: {acc_test:.3}%.')\n",
    "\n",
    "plt.plot(model.norm_hist)\n",
    "plt.title('Loss')\n",
    "plt.show()\n",
    "\n",
    "acc_train = []\n",
    "acc_test = []\n",
    "for i in range (len(model.param_hist)):\n",
    "    yh_train = MLP_Two_tanh_Drop_Hist.check(model.param_hist[i], x_train)\n",
    "    yh_test = MLP_Two_tanh_Drop_Hist.check(model.param_hist[i], x_test)\n",
    "    acc_train.append(evaluate_acc(yh_train, y_train))\n",
    "    acc_test.append(evaluate_acc(yh_test, y_test))\n",
    "\n",
    "plt.plot(acc_train)\n",
    "plt.plot(acc_test)\n",
    "plt.title('Train and test accuracy')\n",
    "plt.legend(['train','test'])\n",
    "plt.show()\n"
   ]
  },
  {
   "cell_type": "code",
   "execution_count": null,
   "metadata": {},
   "outputs": [],
   "source": []
  }
 ],
 "metadata": {
  "accelerator": "GPU",
  "colab": {
   "collapsed_sections": [],
   "name": "MLP.ipynb",
   "provenance": [],
   "toc_visible": true
  },
  "kernelspec": {
   "display_name": "Python 3 (ipykernel)",
   "language": "python",
   "name": "python3"
  },
  "language_info": {
   "codemirror_mode": {
    "name": "ipython",
    "version": 3
   },
   "file_extension": ".py",
   "mimetype": "text/x-python",
   "name": "python",
   "nbconvert_exporter": "python",
   "pygments_lexer": "ipython3",
   "version": "3.9.7"
  }
 },
 "nbformat": 4,
 "nbformat_minor": 1
}
